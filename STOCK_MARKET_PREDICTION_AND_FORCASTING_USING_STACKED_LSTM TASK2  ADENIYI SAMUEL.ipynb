{
 "cells": [
  {
   "cell_type": "markdown",
   "metadata": {
    "id": "7dgjnv5nEAGF"
   },
   "source": [
    "#  STOCK MARKET PREDICTION AND FORCASTING USING STACKED LSTM\n",
    " # LGM PROJECT TASK 2\n",
    " # BY ADENIYI SAMUEL"
   ]
  },
  {
   "cell_type": "code",
   "execution_count": null,
   "metadata": {},
   "outputs": [],
   "source": []
  },
  {
   "cell_type": "markdown",
   "metadata": {},
   "source": [
    "# OBJECTIVES\n",
    "TO PREDICT AND FORECAST STOCK MARKET PRICES USIND THE STACKRD LSTM (LONG SHORT TERM MEMORY)"
   ]
  },
  {
   "cell_type": "markdown",
   "metadata": {
    "id": "d8flbj8DGDND"
   },
   "source": [
    "# Importing Neccessary Libraries"
   ]
  },
  {
   "cell_type": "code",
   "execution_count": 1,
   "metadata": {
    "id": "Y6-2uXpAF_r-"
   },
   "outputs": [],
   "source": [
    "import pandas as pd\n",
    "import numpy as np\n",
    "import math\n",
    "import seaborn as sns\n",
    "import matplotlib.pyplot as plt\n",
    "from sklearn.preprocessing import MinMaxScaler\n",
    "from sklearn.metrics import mean_squared_error\n",
    "import tensorflow as tf\n",
    "from tensorflow.python.keras.models import Sequential\n",
    "from tensorflow.python.keras.layers import Dense\n",
    "from tensorflow.python.keras.layers import LSTM\n",
    "%matplotlib inline\n",
    "from warnings import filterwarnings\n",
    "filterwarnings(\"ignore\")"
   ]
  },
  {
   "cell_type": "markdown",
   "metadata": {
    "id": "v_DYyR6KGiDc"
   },
   "source": [
    "# Loading the dataset"
   ]
  },
  {
   "cell_type": "code",
   "execution_count": 2,
   "metadata": {
    "id": "xbxh7GnJGSPS"
   },
   "outputs": [],
   "source": [
    "df = pd.read_csv(\"/content/NSE-TATAGLOBAL.csv\")"
   ]
  },
  {
   "cell_type": "code",
   "execution_count": 3,
   "metadata": {
    "colab": {
     "base_uri": "https://localhost:8080/",
     "height": 206
    },
    "id": "8F6Uddh4IFMc",
    "outputId": "fbae734b-23f1-49cc-d362-a5ef15140eb0"
   },
   "outputs": [
    {
     "data": {
      "text/html": [
       "\n",
       "  <div id=\"df-457dbe3c-5782-4e2d-9e57-2a1836cff44a\">\n",
       "    <div class=\"colab-df-container\">\n",
       "      <div>\n",
       "<style scoped>\n",
       "    .dataframe tbody tr th:only-of-type {\n",
       "        vertical-align: middle;\n",
       "    }\n",
       "\n",
       "    .dataframe tbody tr th {\n",
       "        vertical-align: top;\n",
       "    }\n",
       "\n",
       "    .dataframe thead th {\n",
       "        text-align: right;\n",
       "    }\n",
       "</style>\n",
       "<table border=\"1\" class=\"dataframe\">\n",
       "  <thead>\n",
       "    <tr style=\"text-align: right;\">\n",
       "      <th></th>\n",
       "      <th>Date</th>\n",
       "      <th>Open</th>\n",
       "      <th>High</th>\n",
       "      <th>Low</th>\n",
       "      <th>Last</th>\n",
       "      <th>Close</th>\n",
       "      <th>Total Trade Quantity</th>\n",
       "      <th>Turnover (Lacs)</th>\n",
       "    </tr>\n",
       "  </thead>\n",
       "  <tbody>\n",
       "    <tr>\n",
       "      <th>0</th>\n",
       "      <td>2018-09-28</td>\n",
       "      <td>234.05</td>\n",
       "      <td>235.95</td>\n",
       "      <td>230.20</td>\n",
       "      <td>233.50</td>\n",
       "      <td>233.75</td>\n",
       "      <td>3069914</td>\n",
       "      <td>7162.35</td>\n",
       "    </tr>\n",
       "    <tr>\n",
       "      <th>1</th>\n",
       "      <td>2018-09-27</td>\n",
       "      <td>234.55</td>\n",
       "      <td>236.80</td>\n",
       "      <td>231.10</td>\n",
       "      <td>233.80</td>\n",
       "      <td>233.25</td>\n",
       "      <td>5082859</td>\n",
       "      <td>11859.95</td>\n",
       "    </tr>\n",
       "    <tr>\n",
       "      <th>2</th>\n",
       "      <td>2018-09-26</td>\n",
       "      <td>240.00</td>\n",
       "      <td>240.00</td>\n",
       "      <td>232.50</td>\n",
       "      <td>235.00</td>\n",
       "      <td>234.25</td>\n",
       "      <td>2240909</td>\n",
       "      <td>5248.60</td>\n",
       "    </tr>\n",
       "    <tr>\n",
       "      <th>3</th>\n",
       "      <td>2018-09-25</td>\n",
       "      <td>233.30</td>\n",
       "      <td>236.75</td>\n",
       "      <td>232.00</td>\n",
       "      <td>236.25</td>\n",
       "      <td>236.10</td>\n",
       "      <td>2349368</td>\n",
       "      <td>5503.90</td>\n",
       "    </tr>\n",
       "    <tr>\n",
       "      <th>4</th>\n",
       "      <td>2018-09-24</td>\n",
       "      <td>233.55</td>\n",
       "      <td>239.20</td>\n",
       "      <td>230.75</td>\n",
       "      <td>234.00</td>\n",
       "      <td>233.30</td>\n",
       "      <td>3423509</td>\n",
       "      <td>7999.55</td>\n",
       "    </tr>\n",
       "  </tbody>\n",
       "</table>\n",
       "</div>\n",
       "      <button class=\"colab-df-convert\" onclick=\"convertToInteractive('df-457dbe3c-5782-4e2d-9e57-2a1836cff44a')\"\n",
       "              title=\"Convert this dataframe to an interactive table.\"\n",
       "              style=\"display:none;\">\n",
       "        \n",
       "  <svg xmlns=\"http://www.w3.org/2000/svg\" height=\"24px\"viewBox=\"0 0 24 24\"\n",
       "       width=\"24px\">\n",
       "    <path d=\"M0 0h24v24H0V0z\" fill=\"none\"/>\n",
       "    <path d=\"M18.56 5.44l.94 2.06.94-2.06 2.06-.94-2.06-.94-.94-2.06-.94 2.06-2.06.94zm-11 1L8.5 8.5l.94-2.06 2.06-.94-2.06-.94L8.5 2.5l-.94 2.06-2.06.94zm10 10l.94 2.06.94-2.06 2.06-.94-2.06-.94-.94-2.06-.94 2.06-2.06.94z\"/><path d=\"M17.41 7.96l-1.37-1.37c-.4-.4-.92-.59-1.43-.59-.52 0-1.04.2-1.43.59L10.3 9.45l-7.72 7.72c-.78.78-.78 2.05 0 2.83L4 21.41c.39.39.9.59 1.41.59.51 0 1.02-.2 1.41-.59l7.78-7.78 2.81-2.81c.8-.78.8-2.07 0-2.86zM5.41 20L4 18.59l7.72-7.72 1.47 1.35L5.41 20z\"/>\n",
       "  </svg>\n",
       "      </button>\n",
       "      \n",
       "  <style>\n",
       "    .colab-df-container {\n",
       "      display:flex;\n",
       "      flex-wrap:wrap;\n",
       "      gap: 12px;\n",
       "    }\n",
       "\n",
       "    .colab-df-convert {\n",
       "      background-color: #E8F0FE;\n",
       "      border: none;\n",
       "      border-radius: 50%;\n",
       "      cursor: pointer;\n",
       "      display: none;\n",
       "      fill: #1967D2;\n",
       "      height: 32px;\n",
       "      padding: 0 0 0 0;\n",
       "      width: 32px;\n",
       "    }\n",
       "\n",
       "    .colab-df-convert:hover {\n",
       "      background-color: #E2EBFA;\n",
       "      box-shadow: 0px 1px 2px rgba(60, 64, 67, 0.3), 0px 1px 3px 1px rgba(60, 64, 67, 0.15);\n",
       "      fill: #174EA6;\n",
       "    }\n",
       "\n",
       "    [theme=dark] .colab-df-convert {\n",
       "      background-color: #3B4455;\n",
       "      fill: #D2E3FC;\n",
       "    }\n",
       "\n",
       "    [theme=dark] .colab-df-convert:hover {\n",
       "      background-color: #434B5C;\n",
       "      box-shadow: 0px 1px 3px 1px rgba(0, 0, 0, 0.15);\n",
       "      filter: drop-shadow(0px 1px 2px rgba(0, 0, 0, 0.3));\n",
       "      fill: #FFFFFF;\n",
       "    }\n",
       "  </style>\n",
       "\n",
       "      <script>\n",
       "        const buttonEl =\n",
       "          document.querySelector('#df-457dbe3c-5782-4e2d-9e57-2a1836cff44a button.colab-df-convert');\n",
       "        buttonEl.style.display =\n",
       "          google.colab.kernel.accessAllowed ? 'block' : 'none';\n",
       "\n",
       "        async function convertToInteractive(key) {\n",
       "          const element = document.querySelector('#df-457dbe3c-5782-4e2d-9e57-2a1836cff44a');\n",
       "          const dataTable =\n",
       "            await google.colab.kernel.invokeFunction('convertToInteractive',\n",
       "                                                     [key], {});\n",
       "          if (!dataTable) return;\n",
       "\n",
       "          const docLinkHtml = 'Like what you see? Visit the ' +\n",
       "            '<a target=\"_blank\" href=https://colab.research.google.com/notebooks/data_table.ipynb>data table notebook</a>'\n",
       "            + ' to learn more about interactive tables.';\n",
       "          element.innerHTML = '';\n",
       "          dataTable['output_type'] = 'display_data';\n",
       "          await google.colab.output.renderOutput(dataTable, element);\n",
       "          const docLink = document.createElement('div');\n",
       "          docLink.innerHTML = docLinkHtml;\n",
       "          element.appendChild(docLink);\n",
       "        }\n",
       "      </script>\n",
       "    </div>\n",
       "  </div>\n",
       "  "
      ],
      "text/plain": [
       "         Date    Open    High     Low    Last   Close  Total Trade Quantity  \\\n",
       "0  2018-09-28  234.05  235.95  230.20  233.50  233.75               3069914   \n",
       "1  2018-09-27  234.55  236.80  231.10  233.80  233.25               5082859   \n",
       "2  2018-09-26  240.00  240.00  232.50  235.00  234.25               2240909   \n",
       "3  2018-09-25  233.30  236.75  232.00  236.25  236.10               2349368   \n",
       "4  2018-09-24  233.55  239.20  230.75  234.00  233.30               3423509   \n",
       "\n",
       "   Turnover (Lacs)  \n",
       "0          7162.35  \n",
       "1         11859.95  \n",
       "2          5248.60  \n",
       "3          5503.90  \n",
       "4          7999.55  "
      ]
     },
     "execution_count": 3,
     "metadata": {},
     "output_type": "execute_result"
    }
   ],
   "source": [
    "df.head()"
   ]
  },
  {
   "cell_type": "markdown",
   "metadata": {
    "id": "JiYbM95CIUBT"
   },
   "source": [
    "## **Exploratory Data Analysis**"
   ]
  },
  {
   "cell_type": "code",
   "execution_count": 4,
   "metadata": {
    "colab": {
     "base_uri": "https://localhost:8080/"
    },
    "id": "PefknSZkIHHA",
    "outputId": "3dea0913-26d2-4764-88e9-a971db834803"
   },
   "outputs": [
    {
     "data": {
      "text/plain": [
       "(2035, 8)"
      ]
     },
     "execution_count": 4,
     "metadata": {},
     "output_type": "execute_result"
    }
   ],
   "source": [
    "# Checking The Shape Of The Data\n",
    "df.shape"
   ]
  },
  {
   "cell_type": "code",
   "execution_count": 6,
   "metadata": {
    "colab": {
     "base_uri": "https://localhost:8080/",
     "height": 300
    },
    "id": "0zWYzehsIx5r",
    "outputId": "ae9d3169-7183-42af-eeee-776ecb33bb04"
   },
   "outputs": [
    {
     "data": {
      "text/html": [
       "\n",
       "  <div id=\"df-ba51ba60-68b5-4ce9-a01a-7977211a730d\">\n",
       "    <div class=\"colab-df-container\">\n",
       "      <div>\n",
       "<style scoped>\n",
       "    .dataframe tbody tr th:only-of-type {\n",
       "        vertical-align: middle;\n",
       "    }\n",
       "\n",
       "    .dataframe tbody tr th {\n",
       "        vertical-align: top;\n",
       "    }\n",
       "\n",
       "    .dataframe thead th {\n",
       "        text-align: right;\n",
       "    }\n",
       "</style>\n",
       "<table border=\"1\" class=\"dataframe\">\n",
       "  <thead>\n",
       "    <tr style=\"text-align: right;\">\n",
       "      <th></th>\n",
       "      <th>Open</th>\n",
       "      <th>High</th>\n",
       "      <th>Low</th>\n",
       "      <th>Last</th>\n",
       "      <th>Close</th>\n",
       "      <th>Total Trade Quantity</th>\n",
       "      <th>Turnover (Lacs)</th>\n",
       "    </tr>\n",
       "  </thead>\n",
       "  <tbody>\n",
       "    <tr>\n",
       "      <th>count</th>\n",
       "      <td>2035.000000</td>\n",
       "      <td>2035.000000</td>\n",
       "      <td>2035.000000</td>\n",
       "      <td>2035.000000</td>\n",
       "      <td>2035.00000</td>\n",
       "      <td>2.035000e+03</td>\n",
       "      <td>2035.000000</td>\n",
       "    </tr>\n",
       "    <tr>\n",
       "      <th>mean</th>\n",
       "      <td>149.713735</td>\n",
       "      <td>151.992826</td>\n",
       "      <td>147.293931</td>\n",
       "      <td>149.474251</td>\n",
       "      <td>149.45027</td>\n",
       "      <td>2.335681e+06</td>\n",
       "      <td>3899.980565</td>\n",
       "    </tr>\n",
       "    <tr>\n",
       "      <th>std</th>\n",
       "      <td>48.664509</td>\n",
       "      <td>49.413109</td>\n",
       "      <td>47.931958</td>\n",
       "      <td>48.732570</td>\n",
       "      <td>48.71204</td>\n",
       "      <td>2.091778e+06</td>\n",
       "      <td>4570.767877</td>\n",
       "    </tr>\n",
       "    <tr>\n",
       "      <th>min</th>\n",
       "      <td>81.100000</td>\n",
       "      <td>82.800000</td>\n",
       "      <td>80.000000</td>\n",
       "      <td>81.000000</td>\n",
       "      <td>80.95000</td>\n",
       "      <td>3.961000e+04</td>\n",
       "      <td>37.040000</td>\n",
       "    </tr>\n",
       "    <tr>\n",
       "      <th>25%</th>\n",
       "      <td>120.025000</td>\n",
       "      <td>122.100000</td>\n",
       "      <td>118.300000</td>\n",
       "      <td>120.075000</td>\n",
       "      <td>120.05000</td>\n",
       "      <td>1.146444e+06</td>\n",
       "      <td>1427.460000</td>\n",
       "    </tr>\n",
       "    <tr>\n",
       "      <th>50%</th>\n",
       "      <td>141.500000</td>\n",
       "      <td>143.400000</td>\n",
       "      <td>139.600000</td>\n",
       "      <td>141.100000</td>\n",
       "      <td>141.25000</td>\n",
       "      <td>1.783456e+06</td>\n",
       "      <td>2512.030000</td>\n",
       "    </tr>\n",
       "    <tr>\n",
       "      <th>75%</th>\n",
       "      <td>157.175000</td>\n",
       "      <td>159.400000</td>\n",
       "      <td>155.150000</td>\n",
       "      <td>156.925000</td>\n",
       "      <td>156.90000</td>\n",
       "      <td>2.813594e+06</td>\n",
       "      <td>4539.015000</td>\n",
       "    </tr>\n",
       "    <tr>\n",
       "      <th>max</th>\n",
       "      <td>327.700000</td>\n",
       "      <td>328.750000</td>\n",
       "      <td>321.650000</td>\n",
       "      <td>325.950000</td>\n",
       "      <td>325.75000</td>\n",
       "      <td>2.919102e+07</td>\n",
       "      <td>55755.080000</td>\n",
       "    </tr>\n",
       "  </tbody>\n",
       "</table>\n",
       "</div>\n",
       "      <button class=\"colab-df-convert\" onclick=\"convertToInteractive('df-ba51ba60-68b5-4ce9-a01a-7977211a730d')\"\n",
       "              title=\"Convert this dataframe to an interactive table.\"\n",
       "              style=\"display:none;\">\n",
       "        \n",
       "  <svg xmlns=\"http://www.w3.org/2000/svg\" height=\"24px\"viewBox=\"0 0 24 24\"\n",
       "       width=\"24px\">\n",
       "    <path d=\"M0 0h24v24H0V0z\" fill=\"none\"/>\n",
       "    <path d=\"M18.56 5.44l.94 2.06.94-2.06 2.06-.94-2.06-.94-.94-2.06-.94 2.06-2.06.94zm-11 1L8.5 8.5l.94-2.06 2.06-.94-2.06-.94L8.5 2.5l-.94 2.06-2.06.94zm10 10l.94 2.06.94-2.06 2.06-.94-2.06-.94-.94-2.06-.94 2.06-2.06.94z\"/><path d=\"M17.41 7.96l-1.37-1.37c-.4-.4-.92-.59-1.43-.59-.52 0-1.04.2-1.43.59L10.3 9.45l-7.72 7.72c-.78.78-.78 2.05 0 2.83L4 21.41c.39.39.9.59 1.41.59.51 0 1.02-.2 1.41-.59l7.78-7.78 2.81-2.81c.8-.78.8-2.07 0-2.86zM5.41 20L4 18.59l7.72-7.72 1.47 1.35L5.41 20z\"/>\n",
       "  </svg>\n",
       "      </button>\n",
       "      \n",
       "  <style>\n",
       "    .colab-df-container {\n",
       "      display:flex;\n",
       "      flex-wrap:wrap;\n",
       "      gap: 12px;\n",
       "    }\n",
       "\n",
       "    .colab-df-convert {\n",
       "      background-color: #E8F0FE;\n",
       "      border: none;\n",
       "      border-radius: 50%;\n",
       "      cursor: pointer;\n",
       "      display: none;\n",
       "      fill: #1967D2;\n",
       "      height: 32px;\n",
       "      padding: 0 0 0 0;\n",
       "      width: 32px;\n",
       "    }\n",
       "\n",
       "    .colab-df-convert:hover {\n",
       "      background-color: #E2EBFA;\n",
       "      box-shadow: 0px 1px 2px rgba(60, 64, 67, 0.3), 0px 1px 3px 1px rgba(60, 64, 67, 0.15);\n",
       "      fill: #174EA6;\n",
       "    }\n",
       "\n",
       "    [theme=dark] .colab-df-convert {\n",
       "      background-color: #3B4455;\n",
       "      fill: #D2E3FC;\n",
       "    }\n",
       "\n",
       "    [theme=dark] .colab-df-convert:hover {\n",
       "      background-color: #434B5C;\n",
       "      box-shadow: 0px 1px 3px 1px rgba(0, 0, 0, 0.15);\n",
       "      filter: drop-shadow(0px 1px 2px rgba(0, 0, 0, 0.3));\n",
       "      fill: #FFFFFF;\n",
       "    }\n",
       "  </style>\n",
       "\n",
       "      <script>\n",
       "        const buttonEl =\n",
       "          document.querySelector('#df-ba51ba60-68b5-4ce9-a01a-7977211a730d button.colab-df-convert');\n",
       "        buttonEl.style.display =\n",
       "          google.colab.kernel.accessAllowed ? 'block' : 'none';\n",
       "\n",
       "        async function convertToInteractive(key) {\n",
       "          const element = document.querySelector('#df-ba51ba60-68b5-4ce9-a01a-7977211a730d');\n",
       "          const dataTable =\n",
       "            await google.colab.kernel.invokeFunction('convertToInteractive',\n",
       "                                                     [key], {});\n",
       "          if (!dataTable) return;\n",
       "\n",
       "          const docLinkHtml = 'Like what you see? Visit the ' +\n",
       "            '<a target=\"_blank\" href=https://colab.research.google.com/notebooks/data_table.ipynb>data table notebook</a>'\n",
       "            + ' to learn more about interactive tables.';\n",
       "          element.innerHTML = '';\n",
       "          dataTable['output_type'] = 'display_data';\n",
       "          await google.colab.output.renderOutput(dataTable, element);\n",
       "          const docLink = document.createElement('div');\n",
       "          docLink.innerHTML = docLinkHtml;\n",
       "          element.appendChild(docLink);\n",
       "        }\n",
       "      </script>\n",
       "    </div>\n",
       "  </div>\n",
       "  "
      ],
      "text/plain": [
       "              Open         High          Low         Last       Close  \\\n",
       "count  2035.000000  2035.000000  2035.000000  2035.000000  2035.00000   \n",
       "mean    149.713735   151.992826   147.293931   149.474251   149.45027   \n",
       "std      48.664509    49.413109    47.931958    48.732570    48.71204   \n",
       "min      81.100000    82.800000    80.000000    81.000000    80.95000   \n",
       "25%     120.025000   122.100000   118.300000   120.075000   120.05000   \n",
       "50%     141.500000   143.400000   139.600000   141.100000   141.25000   \n",
       "75%     157.175000   159.400000   155.150000   156.925000   156.90000   \n",
       "max     327.700000   328.750000   321.650000   325.950000   325.75000   \n",
       "\n",
       "       Total Trade Quantity  Turnover (Lacs)  \n",
       "count          2.035000e+03      2035.000000  \n",
       "mean           2.335681e+06      3899.980565  \n",
       "std            2.091778e+06      4570.767877  \n",
       "min            3.961000e+04        37.040000  \n",
       "25%            1.146444e+06      1427.460000  \n",
       "50%            1.783456e+06      2512.030000  \n",
       "75%            2.813594e+06      4539.015000  \n",
       "max            2.919102e+07     55755.080000  "
      ]
     },
     "execution_count": 6,
     "metadata": {},
     "output_type": "execute_result"
    }
   ],
   "source": [
    "# Check The Descriptive Statistics Of the Data\n",
    "df.describe()"
   ]
  },
  {
   "cell_type": "code",
   "execution_count": 7,
   "metadata": {
    "colab": {
     "base_uri": "https://localhost:8080/"
    },
    "id": "z1wgamgHI8mx",
    "outputId": "b614dd98-7e0d-4710-fbc2-162405a26d4a"
   },
   "outputs": [
    {
     "name": "stdout",
     "output_type": "stream",
     "text": [
      "<class 'pandas.core.frame.DataFrame'>\n",
      "RangeIndex: 2035 entries, 0 to 2034\n",
      "Data columns (total 8 columns):\n",
      " #   Column                Non-Null Count  Dtype  \n",
      "---  ------                --------------  -----  \n",
      " 0   Date                  2035 non-null   object \n",
      " 1   Open                  2035 non-null   float64\n",
      " 2   High                  2035 non-null   float64\n",
      " 3   Low                   2035 non-null   float64\n",
      " 4   Last                  2035 non-null   float64\n",
      " 5   Close                 2035 non-null   float64\n",
      " 6   Total Trade Quantity  2035 non-null   int64  \n",
      " 7   Turnover (Lacs)       2035 non-null   float64\n",
      "dtypes: float64(6), int64(1), object(1)\n",
      "memory usage: 127.3+ KB\n"
     ]
    }
   ],
   "source": [
    "# Check Basic Information About The Data\n",
    "df.info()"
   ]
  },
  {
   "cell_type": "code",
   "execution_count": 9,
   "metadata": {
    "colab": {
     "base_uri": "https://localhost:8080/"
    },
    "id": "n8scnFPXJn5v",
    "outputId": "66b9ebe2-553f-4253-9114-618811cb3ed5"
   },
   "outputs": [
    {
     "data": {
      "text/plain": [
       "Date                    0\n",
       "Open                    0\n",
       "High                    0\n",
       "Low                     0\n",
       "Last                    0\n",
       "Close                   0\n",
       "Total Trade Quantity    0\n",
       "Turnover (Lacs)         0\n",
       "dtype: int64"
      ]
     },
     "execution_count": 9,
     "metadata": {},
     "output_type": "execute_result"
    }
   ],
   "source": [
    "# Check For missing values\n",
    "df.isnull().sum()"
   ]
  },
  {
   "cell_type": "markdown",
   "metadata": {},
   "source": [
    "# checking the close values "
   ]
  },
  {
   "cell_type": "code",
   "execution_count": 11,
   "metadata": {
    "colab": {
     "base_uri": "https://localhost:8080/"
    },
    "id": "un8ttNWhPwwP",
    "outputId": "8610d62c-53b5-457d-9835-c862f7c201c8"
   },
   "outputs": [
    {
     "data": {
      "text/plain": [
       "0       233.75\n",
       "1       233.25\n",
       "2       234.25\n",
       "3       236.10\n",
       "4       233.30\n",
       "         ...  \n",
       "2030    118.65\n",
       "2031    117.60\n",
       "2032    120.65\n",
       "2033    120.90\n",
       "2034    121.55\n",
       "Name: Close, Length: 2035, dtype: float64"
      ]
     },
     "execution_count": 11,
     "metadata": {},
     "output_type": "execute_result"
    }
   ],
   "source": [
    "df_close = df.reset_index()['Close']\n",
    "df_close"
   ]
  },
  {
   "cell_type": "code",
   "execution_count": 13,
   "metadata": {
    "colab": {
     "base_uri": "https://localhost:8080/",
     "height": 390
    },
    "id": "QW1PcvuPQP4U",
    "outputId": "ae78ad1d-3a2a-407f-fa1b-740392397c2c"
   },
   "outputs": [
    {
     "data": {
      "image/png": "[encoded data removed]",
      "text/plain": [
       "<Figure size 1080x432 with 1 Axes>"
      ]
     },
     "metadata": {
      "needs_background": "light"
     },
     "output_type": "display_data"
    }
   ],
   "source": [
    "plt.figure(figsize=(15,6))\n",
    "plt.plot(df_close)\n",
    "plt.ylabel(\"Close value\")\n",
    "plt.title(' Stock Close values')\n",
    "plt.show()"
   ]
  },
  {
   "cell_type": "markdown",
   "metadata": {},
   "source": [
    "THE CLOSE VALUES REDUCES WITH TIME"
   ]
  },
  {
   "cell_type": "markdown",
   "metadata": {
    "id": "nMdDYr4jTspf"
   },
   "source": [
    "# Checking the Stock High Values"
   ]
  },
  {
   "cell_type": "code",
   "execution_count": 17,
   "metadata": {
    "colab": {
     "base_uri": "https://localhost:8080/",
     "height": 390
    },
    "id": "7P-iUTYbQn_S",
    "outputId": "b7a56080-2447-41c6-9fe4-7a1cfd8fbe96"
   },
   "outputs": [
    {
     "data": {
      "image/png": "[encoded data removed]",
      "text/plain": [
       "<Figure size 1080x432 with 1 Axes>"
      ]
     },
     "metadata": {
      "needs_background": "light"
     },
     "output_type": "display_data"
    }
   ],
   "source": [
    "plt.figure(figsize=(15,6))\n",
    "\n",
    "df_high = df.reset_index()['High']\n",
    "plt.plot(df_high)\n",
    "plt.ylabel(\"High values\")\n",
    "plt.title('Stock High value')\n",
    "plt.show()"
   ]
  },
  {
   "cell_type": "markdown",
   "metadata": {},
   "source": [
    "THE HIGH VALUES EXPERIENCED A SHARP DIP AFTER WHICH IT EVENTUALLY MOVES IN A STABLE MANNER"
   ]
  },
  {
   "cell_type": "markdown",
   "metadata": {
    "id": "tSyOSeKoUzG_"
   },
   "source": [
    "# Checking open Stock Graph"
   ]
  },
  {
   "cell_type": "code",
   "execution_count": 18,
   "metadata": {
    "colab": {
     "base_uri": "https://localhost:8080/",
     "height": 390
    },
    "id": "d-SridYuUD25",
    "outputId": "f3a04efd-7140-4375-8a0f-0c2ba980bddb"
   },
   "outputs": [
    {
     "data": {
      "image/png": "[encoded data removed]",
      "text/plain": [
       "<Figure size 1080x432 with 1 Axes>"
      ]
     },
     "metadata": {
      "needs_background": "light"
     },
     "output_type": "display_data"
    }
   ],
   "source": [
    "plt.figure(figsize=(15,6))\n",
    "\n",
    "df_open=df.reset_index()['Open']\n",
    "plt.plot(df_open)\n",
    "plt.ylabel(\"High value\")\n",
    "plt.title('Open Stock')\n",
    "plt.show()"
   ]
  },
  {
   "cell_type": "markdown",
   "metadata": {},
   "source": [
    "THE OPEN VALUES HAVE THE SAME PATTERN AS THE HIGH VALUES"
   ]
  },
  {
   "cell_type": "markdown",
   "metadata": {
    "id": "Vc1bjtHUVD2z"
   },
   "source": [
    "# Rescaling the dataset\n"
   ]
  },
  {
   "cell_type": "code",
   "execution_count": 19,
   "metadata": {
    "colab": {
     "base_uri": "https://localhost:8080/"
    },
    "id": "kS-kJ6koUWmB",
    "outputId": "2c7d8bd7-8bac-4111-9661-198e1419cc97"
   },
   "outputs": [
    {
     "data": {
      "text/plain": [
       "array([[0.62268754],\n",
       "       [0.62614353],\n",
       "       [0.6391543 ],\n",
       "       ...,\n",
       "       [0.15917869],\n",
       "       [0.15938199],\n",
       "       [0.16344786]])"
      ]
     },
     "execution_count": 19,
     "metadata": {},
     "output_type": "execute_result"
    }
   ],
   "source": [
    "from sklearn.preprocessing import MinMaxScaler\n",
    "scaler = MinMaxScaler(feature_range = (0,1))\n",
    "df_high = scaler.fit_transform(np.array(df_high).reshape(-1,1))\n",
    "df_high"
   ]
  },
  {
   "cell_type": "markdown",
   "metadata": {
    "id": "7FXBmMZlWKPr"
   },
   "source": [
    "# splitting the dataset into train and test set"
   ]
  },
  {
   "cell_type": "code",
   "execution_count": 21,
   "metadata": {
    "id": "2fer5WrvV6qr"
   },
   "outputs": [],
   "source": [
    "training_set = int(len(df_high) * 0.75)\n",
    "test_set = len(df_high) - training_set\n",
    "train_data, test_data = df_high[0:training_set,:], df_high[training_set:len(df_high),:1]"
   ]
  },
  {
   "cell_type": "markdown",
   "metadata": {
    "id": "kb_-ee3VX7S6"
   },
   "source": [
    "# **Data Preprocessing**"
   ]
  },
  {
   "cell_type": "code",
   "execution_count": 24,
   "metadata": {
    "id": "G6PF6ZsnXBol"
   },
   "outputs": [],
   "source": [
    "def create_dataset(df, time_step = 1):\n",
    "    dataX, dataY = [], []\n",
    "    for i in range(len(df) - time_step - 1):\n",
    "        a = df[i:(i+time_step), 0]\n",
    "        dataX.append(a)\n",
    "        dataY.append(df[i+time_step, 0])\n",
    "    return np.array(dataX), np.array(dataY)"
   ]
  },
  {
   "cell_type": "code",
   "execution_count": 25,
   "metadata": {
    "id": "8LRjU-ZPYHQR"
   },
   "outputs": [],
   "source": [
    "time_step = 100\n",
    "x_train, y_train = create_dataset(train_data, time_step)\n",
    "x_test, y_test = create_dataset(test_data, time_step)"
   ]
  },
  {
   "cell_type": "markdown",
   "metadata": {
    "id": "u_g8ZKaPYSwk"
   },
   "source": [
    "# Using Long Short Term Memory Technique\n"
   ]
  },
  {
   "cell_type": "code",
   "execution_count": 26,
   "metadata": {
    "id": "7Jr8O7LRYK04"
   },
   "outputs": [],
   "source": [
    "x_train = x_train.reshape(x_train.shape[0], x_train.shape[1], 1)\n",
    "x_test = x_test.reshape(x_test.shape[0], x_test.shape[1], 1)"
   ]
  },
  {
   "cell_type": "code",
   "execution_count": null,
   "metadata": {},
   "outputs": [],
   "source": []
  },
  {
   "cell_type": "markdown",
   "metadata": {
    "id": "lsxHeD-wbCF0"
   },
   "source": [
    "# Import Important LSTM libraries"
   ]
  },
  {
   "cell_type": "code",
   "execution_count": 30,
   "metadata": {
    "id": "6UExWtgTY76S"
   },
   "outputs": [],
   "source": [
    "import math\n",
    "from sklearn.metrics import mean_squared_error\n",
    "import tensorflow as tf\n",
    "from tensorflow.python.keras.models import Sequential\n",
    "from tensorflow.python.keras.layers import Dense\n",
    "from tensorflow.python.keras.layers import LSTM"
   ]
  },
  {
   "cell_type": "code",
   "execution_count": 32,
   "metadata": {
    "colab": {
     "base_uri": "https://localhost:8080/",
     "height": 35
    },
    "id": "rWm_4j1lbN71",
    "outputId": "cad6e50b-9b2a-49a4-dbe7-2a5c02a044ff"
   },
   "outputs": [
    {
     "data": {
      "application/vnd.google.colaboratory.intrinsic+json": {
       "type": "string"
      },
      "text/plain": [
       "'2.9.2'"
      ]
     },
     "execution_count": 32,
     "metadata": {},
     "output_type": "execute_result"
    }
   ],
   "source": [
    "# Confirming My TensorFlow Version\n",
    "tf.__version__"
   ]
  },
  {
   "cell_type": "markdown",
   "metadata": {
    "id": "LOqoz0ngb6C0"
   },
   "source": [
    "# **Creating LSTM Model**"
   ]
  },
  {
   "cell_type": "code",
   "execution_count": 37,
   "metadata": {
    "id": "0lw8mVidbipC"
   },
   "outputs": [],
   "source": [
    "model = Sequential()\n",
    "model.add(LSTM(50, return_sequences = True, input_shape = (100,1)))\n",
    "model.add(LSTM(50, return_sequences = True))\n",
    "model.add(LSTM(50))\n",
    "model.add(Dense(1))\n",
    "model.compile(loss = 'mean_squared_error', optimizer = 'adam')"
   ]
  },
  {
   "cell_type": "code",
   "execution_count": 38,
   "metadata": {
    "colab": {
     "base_uri": "https://localhost:8080/"
    },
    "id": "nrYeRBgccFgH",
    "outputId": "6735d751-5f81-41a8-baff-955cdcb7a4d7"
   },
   "outputs": [
    {
     "name": "stdout",
     "output_type": "stream",
     "text": [
      "Model: \"sequential_2\"\n",
      "_________________________________________________________________\n",
      "Layer (type)                 Output Shape              Param #   \n",
      "=================================================================\n",
      "lstm_6 (LSTM)                (None, 100, 50)           10400     \n",
      "_________________________________________________________________\n",
      "lstm_7 (LSTM)                (None, 100, 50)           20200     \n",
      "_________________________________________________________________\n",
      "lstm_8 (LSTM)                (None, 50)                20200     \n",
      "_________________________________________________________________\n",
      "dense_2 (Dense)              (None, 1)                 51        \n",
      "=================================================================\n",
      "Total params: 50,851\n",
      "Trainable params: 50,851\n",
      "Non-trainable params: 0\n",
      "_________________________________________________________________\n"
     ]
    }
   ],
   "source": [
    "model.summary()"
   ]
  },
  {
   "cell_type": "markdown",
   "metadata": {
    "id": "ibnd44WMcm2g"
   },
   "source": [
    "## **Model Training**"
   ]
  },
  {
   "cell_type": "code",
   "execution_count": 39,
   "metadata": {
    "colab": {
     "base_uri": "https://localhost:8080/"
    },
    "id": "xgjRXvM9cHmq",
    "outputId": "5ed274ee-cbde-4cab-c468-c18e5fc30117"
   },
   "outputs": [
    {
     "name": "stdout",
     "output_type": "stream",
     "text": [
      "Epoch 1/100\n",
      "23/23 [==============================] - 16s 357ms/step - loss: 0.0310 - val_loss: 0.0074\n",
      "Epoch 2/100\n",
      "23/23 [==============================] - 7s 325ms/step - loss: 0.0038 - val_loss: 0.0014\n",
      "Epoch 3/100\n",
      "23/23 [==============================] - 7s 323ms/step - loss: 0.0017 - val_loss: 0.0019\n",
      "Epoch 4/100\n",
      "23/23 [==============================] - 7s 322ms/step - loss: 0.0015 - val_loss: 0.0016\n",
      "Epoch 5/100\n",
      "23/23 [==============================] - 7s 323ms/step - loss: 0.0014 - val_loss: 0.0015\n",
      "Epoch 6/100\n",
      "23/23 [==============================] - 7s 323ms/step - loss: 0.0013 - val_loss: 0.0013\n",
      "Epoch 7/100\n",
      "23/23 [==============================] - 7s 325ms/step - loss: 0.0013 - val_loss: 0.0012\n",
      "Epoch 8/100\n",
      "23/23 [==============================] - 7s 325ms/step - loss: 0.0013 - val_loss: 0.0012\n",
      "Epoch 9/100\n",
      "23/23 [==============================] - 7s 324ms/step - loss: 0.0011 - val_loss: 7.1504e-04\n",
      "Epoch 10/100\n",
      "23/23 [==============================] - 8s 327ms/step - loss: 0.0013 - val_loss: 8.6211e-04\n",
      "Epoch 11/100\n",
      "23/23 [==============================] - 8s 367ms/step - loss: 0.0010 - val_loss: 9.5925e-04\n",
      "Epoch 12/100\n",
      "23/23 [==============================] - 7s 326ms/step - loss: 9.6030e-04 - val_loss: 8.2549e-04\n",
      "Epoch 13/100\n",
      "23/23 [==============================] - 7s 324ms/step - loss: 9.4674e-04 - val_loss: 6.7408e-04\n",
      "Epoch 14/100\n",
      "23/23 [==============================] - 8s 326ms/step - loss: 9.7959e-04 - val_loss: 7.9908e-04\n",
      "Epoch 15/100\n",
      "23/23 [==============================] - 9s 405ms/step - loss: 9.0762e-04 - val_loss: 7.1567e-04\n",
      "Epoch 16/100\n",
      "23/23 [==============================] - 10s 427ms/step - loss: 8.7171e-04 - val_loss: 6.7724e-04\n",
      "Epoch 17/100\n",
      "23/23 [==============================] - 7s 326ms/step - loss: 9.1481e-04 - val_loss: 7.6013e-04\n",
      "Epoch 18/100\n",
      "23/23 [==============================] - 7s 325ms/step - loss: 8.7420e-04 - val_loss: 6.0770e-04\n",
      "Epoch 19/100\n",
      "23/23 [==============================] - 7s 326ms/step - loss: 8.1549e-04 - val_loss: 6.0446e-04\n",
      "Epoch 20/100\n",
      "23/23 [==============================] - 7s 325ms/step - loss: 8.8516e-04 - val_loss: 8.7270e-04\n",
      "Epoch 21/100\n",
      "23/23 [==============================] - 7s 324ms/step - loss: 8.2837e-04 - val_loss: 8.5033e-04\n",
      "Epoch 22/100\n",
      "23/23 [==============================] - 7s 324ms/step - loss: 9.4003e-04 - val_loss: 6.4118e-04\n",
      "Epoch 23/100\n",
      "23/23 [==============================] - 7s 325ms/step - loss: 7.3145e-04 - val_loss: 8.2784e-04\n",
      "Epoch 24/100\n",
      "23/23 [==============================] - 7s 322ms/step - loss: 7.0887e-04 - val_loss: 6.8012e-04\n",
      "Epoch 25/100\n",
      "23/23 [==============================] - 7s 322ms/step - loss: 7.2082e-04 - val_loss: 6.4485e-04\n",
      "Epoch 26/100\n",
      "23/23 [==============================] - 7s 323ms/step - loss: 7.8981e-04 - val_loss: 5.6473e-04\n",
      "Epoch 27/100\n",
      "23/23 [==============================] - 7s 322ms/step - loss: 6.4634e-04 - val_loss: 6.7520e-04\n",
      "Epoch 28/100\n",
      "23/23 [==============================] - 7s 322ms/step - loss: 6.4536e-04 - val_loss: 7.4213e-04\n",
      "Epoch 29/100\n",
      "23/23 [==============================] - 7s 324ms/step - loss: 6.2941e-04 - val_loss: 7.7623e-04\n",
      "Epoch 30/100\n",
      "23/23 [==============================] - 7s 323ms/step - loss: 6.1209e-04 - val_loss: 7.6371e-04\n",
      "Epoch 31/100\n",
      "23/23 [==============================] - 7s 325ms/step - loss: 6.3150e-04 - val_loss: 6.7660e-04\n",
      "Epoch 32/100\n",
      "23/23 [==============================] - 7s 324ms/step - loss: 5.9513e-04 - val_loss: 7.1554e-04\n",
      "Epoch 33/100\n",
      "23/23 [==============================] - 7s 323ms/step - loss: 5.9000e-04 - val_loss: 7.8891e-04\n",
      "Epoch 34/100\n",
      "23/23 [==============================] - 7s 323ms/step - loss: 5.6951e-04 - val_loss: 7.0768e-04\n",
      "Epoch 35/100\n",
      "23/23 [==============================] - 7s 323ms/step - loss: 5.5105e-04 - val_loss: 6.7014e-04\n",
      "Epoch 36/100\n",
      "23/23 [==============================] - 7s 323ms/step - loss: 5.4040e-04 - val_loss: 7.1564e-04\n",
      "Epoch 37/100\n",
      "23/23 [==============================] - 7s 323ms/step - loss: 5.6413e-04 - val_loss: 8.3247e-04\n",
      "Epoch 38/100\n",
      "23/23 [==============================] - 7s 325ms/step - loss: 6.8549e-04 - val_loss: 6.8324e-04\n",
      "Epoch 39/100\n",
      "23/23 [==============================] - 7s 322ms/step - loss: 5.3293e-04 - val_loss: 6.4323e-04\n",
      "Epoch 40/100\n",
      "23/23 [==============================] - 7s 323ms/step - loss: 5.4256e-04 - val_loss: 6.7226e-04\n",
      "Epoch 41/100\n",
      "23/23 [==============================] - 7s 324ms/step - loss: 5.2261e-04 - val_loss: 5.4781e-04\n",
      "Epoch 42/100\n",
      "23/23 [==============================] - 7s 323ms/step - loss: 5.0321e-04 - val_loss: 5.0683e-04\n",
      "Epoch 43/100\n",
      "23/23 [==============================] - 7s 323ms/step - loss: 5.3305e-04 - val_loss: 5.1467e-04\n",
      "Epoch 44/100\n",
      "23/23 [==============================] - 7s 324ms/step - loss: 4.9192e-04 - val_loss: 5.3099e-04\n",
      "Epoch 45/100\n",
      "23/23 [==============================] - 7s 324ms/step - loss: 4.6818e-04 - val_loss: 5.7645e-04\n",
      "Epoch 46/100\n",
      "23/23 [==============================] - 7s 323ms/step - loss: 4.7822e-04 - val_loss: 6.1931e-04\n",
      "Epoch 47/100\n",
      "23/23 [==============================] - 10s 432ms/step - loss: 4.6050e-04 - val_loss: 4.7217e-04\n",
      "Epoch 48/100\n",
      "23/23 [==============================] - 7s 323ms/step - loss: 4.9967e-04 - val_loss: 4.4520e-04\n",
      "Epoch 49/100\n",
      "23/23 [==============================] - 7s 323ms/step - loss: 5.1750e-04 - val_loss: 4.6631e-04\n",
      "Epoch 50/100\n",
      "23/23 [==============================] - 7s 324ms/step - loss: 5.1085e-04 - val_loss: 4.5980e-04\n",
      "Epoch 51/100\n",
      "23/23 [==============================] - 7s 323ms/step - loss: 4.7030e-04 - val_loss: 5.9023e-04\n",
      "Epoch 52/100\n",
      "23/23 [==============================] - 7s 323ms/step - loss: 4.3461e-04 - val_loss: 5.4482e-04\n",
      "Epoch 53/100\n",
      "23/23 [==============================] - 7s 324ms/step - loss: 4.2205e-04 - val_loss: 5.3498e-04\n",
      "Epoch 54/100\n",
      "23/23 [==============================] - 7s 324ms/step - loss: 4.3128e-04 - val_loss: 3.9778e-04\n",
      "Epoch 55/100\n",
      "23/23 [==============================] - 7s 322ms/step - loss: 4.1408e-04 - val_loss: 4.5820e-04\n",
      "Epoch 56/100\n",
      "23/23 [==============================] - 7s 322ms/step - loss: 4.7545e-04 - val_loss: 5.2306e-04\n",
      "Epoch 57/100\n",
      "23/23 [==============================] - 7s 323ms/step - loss: 3.9366e-04 - val_loss: 6.2398e-04\n",
      "Epoch 58/100\n",
      "23/23 [==============================] - 7s 324ms/step - loss: 4.2521e-04 - val_loss: 4.1662e-04\n",
      "Epoch 59/100\n",
      "23/23 [==============================] - 7s 325ms/step - loss: 3.8655e-04 - val_loss: 4.1648e-04\n",
      "Epoch 60/100\n",
      "23/23 [==============================] - 7s 324ms/step - loss: 3.9344e-04 - val_loss: 5.3065e-04\n",
      "Epoch 61/100\n",
      "23/23 [==============================] - 7s 323ms/step - loss: 4.1215e-04 - val_loss: 3.8508e-04\n",
      "Epoch 62/100\n",
      "23/23 [==============================] - 7s 325ms/step - loss: 4.2062e-04 - val_loss: 3.2017e-04\n",
      "Epoch 63/100\n",
      "23/23 [==============================] - 7s 324ms/step - loss: 3.6660e-04 - val_loss: 3.5140e-04\n",
      "Epoch 64/100\n",
      "23/23 [==============================] - 7s 322ms/step - loss: 4.2972e-04 - val_loss: 3.3572e-04\n",
      "Epoch 65/100\n",
      "23/23 [==============================] - 7s 323ms/step - loss: 3.4305e-04 - val_loss: 3.6322e-04\n",
      "Epoch 66/100\n",
      "23/23 [==============================] - 7s 323ms/step - loss: 3.7247e-04 - val_loss: 3.0794e-04\n",
      "Epoch 67/100\n",
      "23/23 [==============================] - 7s 324ms/step - loss: 3.5007e-04 - val_loss: 3.8085e-04\n",
      "Epoch 68/100\n",
      "23/23 [==============================] - 7s 322ms/step - loss: 3.2716e-04 - val_loss: 3.0046e-04\n",
      "Epoch 69/100\n",
      "23/23 [==============================] - 7s 325ms/step - loss: 3.2047e-04 - val_loss: 4.6624e-04\n",
      "Epoch 70/100\n",
      "23/23 [==============================] - 7s 325ms/step - loss: 3.1389e-04 - val_loss: 3.4491e-04\n",
      "Epoch 71/100\n",
      "23/23 [==============================] - 7s 324ms/step - loss: 3.1075e-04 - val_loss: 2.7483e-04\n",
      "Epoch 72/100\n",
      "23/23 [==============================] - 7s 324ms/step - loss: 3.8931e-04 - val_loss: 4.5422e-04\n",
      "Epoch 73/100\n",
      "23/23 [==============================] - 7s 323ms/step - loss: 4.2627e-04 - val_loss: 5.4455e-04\n",
      "Epoch 74/100\n",
      "23/23 [==============================] - 7s 324ms/step - loss: 3.4999e-04 - val_loss: 3.6921e-04\n",
      "Epoch 75/100\n",
      "23/23 [==============================] - 7s 324ms/step - loss: 3.4070e-04 - val_loss: 3.0080e-04\n",
      "Epoch 76/100\n",
      "23/23 [==============================] - 7s 323ms/step - loss: 3.0037e-04 - val_loss: 2.7540e-04\n",
      "Epoch 77/100\n",
      "23/23 [==============================] - 7s 323ms/step - loss: 2.8504e-04 - val_loss: 2.7724e-04\n",
      "Epoch 78/100\n",
      "23/23 [==============================] - 9s 415ms/step - loss: 2.8064e-04 - val_loss: 3.2734e-04\n",
      "Epoch 79/100\n",
      "23/23 [==============================] - 8s 331ms/step - loss: 2.5063e-04 - val_loss: 3.1221e-04\n",
      "Epoch 80/100\n",
      "23/23 [==============================] - 7s 324ms/step - loss: 2.5509e-04 - val_loss: 3.4122e-04\n",
      "Epoch 81/100\n",
      "23/23 [==============================] - 7s 322ms/step - loss: 2.4265e-04 - val_loss: 3.5400e-04\n",
      "Epoch 82/100\n",
      "23/23 [==============================] - 7s 323ms/step - loss: 2.5711e-04 - val_loss: 2.8861e-04\n",
      "Epoch 83/100\n",
      "23/23 [==============================] - 7s 323ms/step - loss: 2.3825e-04 - val_loss: 3.0980e-04\n",
      "Epoch 84/100\n",
      "23/23 [==============================] - 7s 324ms/step - loss: 2.7396e-04 - val_loss: 2.5265e-04\n",
      "Epoch 85/100\n",
      "23/23 [==============================] - 7s 324ms/step - loss: 2.5779e-04 - val_loss: 2.6839e-04\n",
      "Epoch 86/100\n",
      "23/23 [==============================] - 7s 324ms/step - loss: 2.3812e-04 - val_loss: 2.9575e-04\n",
      "Epoch 87/100\n",
      "23/23 [==============================] - 7s 324ms/step - loss: 2.4781e-04 - val_loss: 2.5644e-04\n",
      "Epoch 88/100\n",
      "23/23 [==============================] - 7s 323ms/step - loss: 2.2108e-04 - val_loss: 2.8957e-04\n",
      "Epoch 89/100\n",
      "23/23 [==============================] - 7s 323ms/step - loss: 2.1397e-04 - val_loss: 2.7248e-04\n",
      "Epoch 90/100\n",
      "23/23 [==============================] - 7s 325ms/step - loss: 2.2816e-04 - val_loss: 3.3124e-04\n",
      "Epoch 91/100\n",
      "23/23 [==============================] - 7s 324ms/step - loss: 2.6761e-04 - val_loss: 2.4298e-04\n",
      "Epoch 92/100\n",
      "23/23 [==============================] - 7s 323ms/step - loss: 2.2471e-04 - val_loss: 3.3185e-04\n",
      "Epoch 93/100\n",
      "23/23 [==============================] - 7s 323ms/step - loss: 2.1591e-04 - val_loss: 3.5633e-04\n",
      "Epoch 94/100\n",
      "23/23 [==============================] - 7s 325ms/step - loss: 2.3497e-04 - val_loss: 2.4603e-04\n",
      "Epoch 95/100\n",
      "23/23 [==============================] - 7s 323ms/step - loss: 2.3392e-04 - val_loss: 2.7645e-04\n",
      "Epoch 96/100\n",
      "23/23 [==============================] - 7s 322ms/step - loss: 2.0885e-04 - val_loss: 2.1551e-04\n",
      "Epoch 97/100\n",
      "23/23 [==============================] - 7s 326ms/step - loss: 2.5043e-04 - val_loss: 1.8743e-04\n",
      "Epoch 98/100\n",
      "23/23 [==============================] - 7s 322ms/step - loss: 2.3024e-04 - val_loss: 2.1617e-04\n",
      "Epoch 99/100\n",
      "23/23 [==============================] - 7s 321ms/step - loss: 2.4575e-04 - val_loss: 2.3504e-04\n",
      "Epoch 100/100\n",
      "23/23 [==============================] - 7s 323ms/step - loss: 2.2298e-04 - val_loss: 2.1099e-04\n"
     ]
    },
    {
     "data": {
      "text/plain": [
       "<tensorflow.python.keras.callbacks.History at 0x7f3a21eb9250>"
      ]
     },
     "execution_count": 39,
     "metadata": {},
     "output_type": "execute_result"
    }
   ],
   "source": [
    "model.fit(x_train, y_train, validation_data = (x_test, y_test), epochs = 100, batch_size = 64, verbose = 1)"
   ]
  },
  {
   "cell_type": "code",
   "execution_count": 40,
   "metadata": {
    "id": "FiBhtdxHcsx3"
   },
   "outputs": [],
   "source": [
    "train_predict = model.predict(x_train)\n",
    "test_predict = model.predict(x_test)"
   ]
  },
  {
   "cell_type": "markdown",
   "metadata": {
    "id": "n5moQEx6gV6A"
   },
   "source": [
    "# Transforming to Original Form"
   ]
  },
  {
   "cell_type": "code",
   "execution_count": 41,
   "metadata": {
    "id": "HwoJeROrgQNj"
   },
   "outputs": [],
   "source": [
    "train_predict = scaler.inverse_transform(train_predict)\n",
    "test_predict = scaler.inverse_transform(test_predict)"
   ]
  },
  {
   "cell_type": "markdown",
   "metadata": {
    "id": "IiT0sWSphY6l"
   },
   "source": [
    "# Evaluating RMSE performance metrics"
   ]
  },
  {
   "cell_type": "code",
   "execution_count": 42,
   "metadata": {
    "colab": {
     "base_uri": "https://localhost:8080/"
    },
    "id": "q0P0jnp1ghtX",
    "outputId": "5937c3f1-7323-48c8-9661-32ffc7191568"
   },
   "outputs": [
    {
     "data": {
      "text/plain": [
       "162.65494767582993"
      ]
     },
     "execution_count": 42,
     "metadata": {},
     "output_type": "execute_result"
    }
   ],
   "source": [
    "math.sqrt(mean_squared_error(y_train, train_predict))"
   ]
  },
  {
   "cell_type": "markdown",
   "metadata": {
    "id": "eIVCFGpwhlbw"
   },
   "source": [
    "### **Test Data RMSE**"
   ]
  },
  {
   "cell_type": "code",
   "execution_count": 43,
   "metadata": {
    "colab": {
     "base_uri": "https://localhost:8080/"
    },
    "id": "QzuNR-bXgz4U",
    "outputId": "680fd55b-10df-4259-9eb0-b2fb603b9a07"
   },
   "outputs": [
    {
     "data": {
      "text/plain": [
       "107.63766942064488"
      ]
     },
     "execution_count": 43,
     "metadata": {},
     "output_type": "execute_result"
    }
   ],
   "source": [
    "math.sqrt(mean_squared_error(y_test, test_predict))"
   ]
  },
  {
   "cell_type": "markdown",
   "metadata": {
    "id": "GKs4kGjKidN8"
   },
   "source": [
    "# Training set versusTesting Data"
   ]
  },
  {
   "cell_type": "code",
   "execution_count": 44,
   "metadata": {
    "id": "yoHmolgPhy1S"
   },
   "outputs": [],
   "source": [
    "#Shifting train prediction for plotting\n",
    "look_back = 100\n",
    "trainPredictPlot = np.empty_like(stock_data_high)\n",
    "trainPredictPlot[:,:] = np.nan\n",
    "trainPredictPlot[look_back:len(train_predict) + look_back, :] = train_predict\n",
    "\n",
    "#Shifting test prediction for plotting\n",
    "testPredictPlot = np.empty_like(stock_data_high)\n",
    "testPredictPlot[:,:] = np.nan\n",
    "testPredictPlot[len(train_predict) + (look_back * 2)+1:len(stock_data_high) - 1, :] = test_predict"
   ]
  },
  {
   "cell_type": "code",
   "execution_count": 48,
   "metadata": {
    "colab": {
     "base_uri": "https://localhost:8080/",
     "height": 442
    },
    "id": "FfQ1MMDEi5Fz",
    "outputId": "b2921f97-2a85-4df7-b50d-3c3c0071b60a"
   },
   "outputs": [
    {
     "data": {
      "image/png": "[encoded data removed]",
      "text/plain": [
       "<Figure size 720x432 with 1 Axes>"
      ]
     },
     "metadata": {
      "needs_background": "light"
     },
     "output_type": "display_data"
    },
    {
     "name": "stdout",
     "output_type": "stream",
     "text": [
      "The Green Color indicates the Predicted Stock Data\n",
      "The Blue Color indicates the Complete Stock Data\n",
      "The Orange Color indicates the Stock Train Data\n"
     ]
    }
   ],
   "source": [
    "#Plotting baseline and predictions\n",
    "plt.figure(figsize=(10,6))\n",
    "\n",
    "plt.plot(scaler.inverse_transform(stock_data_high))\n",
    "plt.plot(trainPredictPlot)\n",
    "plt.plot(testPredictPlot)\n",
    "plt.title(\"baseline prediction\")\n",
    "plt.show()\n"
   ]
  },
  {
   "cell_type": "markdown",
   "metadata": {},
   "source": [
    "# Predicting Stock Values For The Next 40 Days"
   ]
  },
  {
   "cell_type": "code",
   "execution_count": 53,
   "metadata": {
    "id": "LCFoVfPqkzFK"
   },
   "outputs": [],
   "source": [
    "temp_input = list(x_input)\n",
    "temp_input = temp_input[0].tolist()"
   ]
  },
  {
   "cell_type": "code",
   "execution_count": 74,
   "metadata": {
    "colab": {
     "base_uri": "https://localhost:8080/"
    },
    "id": "0lqGObe9ltjP",
    "outputId": "43edb331-0c82-4364-a8dd-30836823a2d1"
   },
   "outputs": [
    {
     "name": "stdout",
     "output_type": "stream",
     "text": [
      "0 day input [0.14948905 0.14860427 0.14778171 0.14701758 0.14630835 0.14565098\n",
      " 0.14504278 0.14448124 0.14396404 0.14348887 0.14305325 0.14265482\n",
      " 0.14229099 0.14195926 0.14165697 0.14138164 0.14113075 0.14090197\n",
      " 0.14069308 0.14050196 0.14032677 0.14016581 0.14001745 0.13988039\n",
      " 0.13975336 0.13963535 0.13952543 0.13942268 0.13932659 0.13923636\n",
      " 0.13915163 0.13907181 0.13899659 0.13892564 0.1388586  0.13879529\n",
      " 0.1387354  0.13867879 0.13862526 0.13857463 0.1385268  0.13848157\n",
      " 0.13843882 0.13839848 0.13836037 0.13832444 0.13829055 0.13825861\n",
      " 0.13822852 0.13820019 0.13817355 0.13814846 0.1381249  0.13810278\n",
      " 0.138082   0.13806248 0.13804415 0.138027   0.13801086 0.13799575\n",
      " 0.13798156 0.1379683  0.13795583 0.13794413 0.13793319 0.13792296\n",
      " 0.13791333 0.13790435 0.13789591 0.13788798 0.13788059 0.13787362\n",
      " 0.13786711 0.13786101 0.13785526 0.1378499  0.13784483 0.13784014\n",
      " 0.13783568 0.13783154 0.13782761 0.13782395 0.13782053 0.13781731\n",
      " 0.13781428 0.13781142 0.13780878 0.13780628 0.13780394 0.13780175\n",
      " 0.13779968 0.13779774 0.13779593 0.13779423 0.13779263 0.13779111\n",
      " 0.13778968 0.13778836 0.13778712 0.13778596]\n",
      "0 day output [[0.13778484]]\n",
      "1 day input [0.14860427 0.14778171 0.14701758 0.14630835 0.14565098 0.14504278\n",
      " 0.14448124 0.14396404 0.14348887 0.14305325 0.14265482 0.14229099\n",
      " 0.14195926 0.14165697 0.14138164 0.14113075 0.14090197 0.14069308\n",
      " 0.14050196 0.14032677 0.14016581 0.14001745 0.13988039 0.13975336\n",
      " 0.13963535 0.13952543 0.13942268 0.13932659 0.13923636 0.13915163\n",
      " 0.13907181 0.13899659 0.13892564 0.1388586  0.13879529 0.1387354\n",
      " 0.13867879 0.13862526 0.13857463 0.1385268  0.13848157 0.13843882\n",
      " 0.13839848 0.13836037 0.13832444 0.13829055 0.13825861 0.13822852\n",
      " 0.13820019 0.13817355 0.13814846 0.1381249  0.13810278 0.138082\n",
      " 0.13806248 0.13804415 0.138027   0.13801086 0.13799575 0.13798156\n",
      " 0.1379683  0.13795583 0.13794413 0.13793319 0.13792296 0.13791333\n",
      " 0.13790435 0.13789591 0.13788798 0.13788059 0.13787362 0.13786711\n",
      " 0.13786101 0.13785526 0.1378499  0.13784483 0.13784014 0.13783568\n",
      " 0.13783154 0.13782761 0.13782395 0.13782053 0.13781731 0.13781428\n",
      " 0.13781142 0.13780878 0.13780628 0.13780394 0.13780175 0.13779968\n",
      " 0.13779774 0.13779593 0.13779423 0.13779263 0.13779111 0.13778968\n",
      " 0.13778836 0.13778712 0.13778596 0.13778484]\n",
      "1 day output [[0.1377838]]\n",
      "2 day input [0.14778171 0.14701758 0.14630835 0.14565098 0.14504278 0.14448124\n",
      " 0.14396404 0.14348887 0.14305325 0.14265482 0.14229099 0.14195926\n",
      " 0.14165697 0.14138164 0.14113075 0.14090197 0.14069308 0.14050196\n",
      " 0.14032677 0.14016581 0.14001745 0.13988039 0.13975336 0.13963535\n",
      " 0.13952543 0.13942268 0.13932659 0.13923636 0.13915163 0.13907181\n",
      " 0.13899659 0.13892564 0.1388586  0.13879529 0.1387354  0.13867879\n",
      " 0.13862526 0.13857463 0.1385268  0.13848157 0.13843882 0.13839848\n",
      " 0.13836037 0.13832444 0.13829055 0.13825861 0.13822852 0.13820019\n",
      " 0.13817355 0.13814846 0.1381249  0.13810278 0.138082   0.13806248\n",
      " 0.13804415 0.138027   0.13801086 0.13799575 0.13798156 0.1379683\n",
      " 0.13795583 0.13794413 0.13793319 0.13792296 0.13791333 0.13790435\n",
      " 0.13789591 0.13788798 0.13788059 0.13787362 0.13786711 0.13786101\n",
      " 0.13785526 0.1378499  0.13784483 0.13784014 0.13783568 0.13783154\n",
      " 0.13782761 0.13782395 0.13782053 0.13781731 0.13781428 0.13781142\n",
      " 0.13780878 0.13780628 0.13780394 0.13780175 0.13779968 0.13779774\n",
      " 0.13779593 0.13779423 0.13779263 0.13779111 0.13778968 0.13778836\n",
      " 0.13778712 0.13778596 0.13778484 0.1377838 ]\n",
      "2 day output [[0.13778284]]\n",
      "3 day input [0.14701758 0.14630835 0.14565098 0.14504278 0.14448124 0.14396404\n",
      " 0.14348887 0.14305325 0.14265482 0.14229099 0.14195926 0.14165697\n",
      " 0.14138164 0.14113075 0.14090197 0.14069308 0.14050196 0.14032677\n",
      " 0.14016581 0.14001745 0.13988039 0.13975336 0.13963535 0.13952543\n",
      " 0.13942268 0.13932659 0.13923636 0.13915163 0.13907181 0.13899659\n",
      " 0.13892564 0.1388586  0.13879529 0.1387354  0.13867879 0.13862526\n",
      " 0.13857463 0.1385268  0.13848157 0.13843882 0.13839848 0.13836037\n",
      " 0.13832444 0.13829055 0.13825861 0.13822852 0.13820019 0.13817355\n",
      " 0.13814846 0.1381249  0.13810278 0.138082   0.13806248 0.13804415\n",
      " 0.138027   0.13801086 0.13799575 0.13798156 0.1379683  0.13795583\n",
      " 0.13794413 0.13793319 0.13792296 0.13791333 0.13790435 0.13789591\n",
      " 0.13788798 0.13788059 0.13787362 0.13786711 0.13786101 0.13785526\n",
      " 0.1378499  0.13784483 0.13784014 0.13783568 0.13783154 0.13782761\n",
      " 0.13782395 0.13782053 0.13781731 0.13781428 0.13781142 0.13780878\n",
      " 0.13780628 0.13780394 0.13780175 0.13779968 0.13779774 0.13779593\n",
      " 0.13779423 0.13779263 0.13779111 0.13778968 0.13778836 0.13778712\n",
      " 0.13778596 0.13778484 0.1377838  0.13778284]\n",
      "3 day output [[0.13778195]]\n",
      "4 day input [0.14630835 0.14565098 0.14504278 0.14448124 0.14396404 0.14348887\n",
      " 0.14305325 0.14265482 0.14229099 0.14195926 0.14165697 0.14138164\n",
      " 0.14113075 0.14090197 0.14069308 0.14050196 0.14032677 0.14016581\n",
      " 0.14001745 0.13988039 0.13975336 0.13963535 0.13952543 0.13942268\n",
      " 0.13932659 0.13923636 0.13915163 0.13907181 0.13899659 0.13892564\n",
      " 0.1388586  0.13879529 0.1387354  0.13867879 0.13862526 0.13857463\n",
      " 0.1385268  0.13848157 0.13843882 0.13839848 0.13836037 0.13832444\n",
      " 0.13829055 0.13825861 0.13822852 0.13820019 0.13817355 0.13814846\n",
      " 0.1381249  0.13810278 0.138082   0.13806248 0.13804415 0.138027\n",
      " 0.13801086 0.13799575 0.13798156 0.1379683  0.13795583 0.13794413\n",
      " 0.13793319 0.13792296 0.13791333 0.13790435 0.13789591 0.13788798\n",
      " 0.13788059 0.13787362 0.13786711 0.13786101 0.13785526 0.1378499\n",
      " 0.13784483 0.13784014 0.13783568 0.13783154 0.13782761 0.13782395\n",
      " 0.13782053 0.13781731 0.13781428 0.13781142 0.13780878 0.13780628\n",
      " 0.13780394 0.13780175 0.13779968 0.13779774 0.13779593 0.13779423\n",
      " 0.13779263 0.13779111 0.13778968 0.13778836 0.13778712 0.13778596\n",
      " 0.13778484 0.1377838  0.13778284 0.13778195]\n",
      "4 day output [[0.13778108]]\n",
      "5 day input [0.14565098 0.14504278 0.14448124 0.14396404 0.14348887 0.14305325\n",
      " 0.14265482 0.14229099 0.14195926 0.14165697 0.14138164 0.14113075\n",
      " 0.14090197 0.14069308 0.14050196 0.14032677 0.14016581 0.14001745\n",
      " 0.13988039 0.13975336 0.13963535 0.13952543 0.13942268 0.13932659\n",
      " 0.13923636 0.13915163 0.13907181 0.13899659 0.13892564 0.1388586\n",
      " 0.13879529 0.1387354  0.13867879 0.13862526 0.13857463 0.1385268\n",
      " 0.13848157 0.13843882 0.13839848 0.13836037 0.13832444 0.13829055\n",
      " 0.13825861 0.13822852 0.13820019 0.13817355 0.13814846 0.1381249\n",
      " 0.13810278 0.138082   0.13806248 0.13804415 0.138027   0.13801086\n",
      " 0.13799575 0.13798156 0.1379683  0.13795583 0.13794413 0.13793319\n",
      " 0.13792296 0.13791333 0.13790435 0.13789591 0.13788798 0.13788059\n",
      " 0.13787362 0.13786711 0.13786101 0.13785526 0.1378499  0.13784483\n",
      " 0.13784014 0.13783568 0.13783154 0.13782761 0.13782395 0.13782053\n",
      " 0.13781731 0.13781428 0.13781142 0.13780878 0.13780628 0.13780394\n",
      " 0.13780175 0.13779968 0.13779774 0.13779593 0.13779423 0.13779263\n",
      " 0.13779111 0.13778968 0.13778836 0.13778712 0.13778596 0.13778484\n",
      " 0.1377838  0.13778284 0.13778195 0.13778108]\n",
      "5 day output [[0.1377803]]\n",
      "6 day input [0.14504278 0.14448124 0.14396404 0.14348887 0.14305325 0.14265482\n",
      " 0.14229099 0.14195926 0.14165697 0.14138164 0.14113075 0.14090197\n",
      " 0.14069308 0.14050196 0.14032677 0.14016581 0.14001745 0.13988039\n",
      " 0.13975336 0.13963535 0.13952543 0.13942268 0.13932659 0.13923636\n",
      " 0.13915163 0.13907181 0.13899659 0.13892564 0.1388586  0.13879529\n",
      " 0.1387354  0.13867879 0.13862526 0.13857463 0.1385268  0.13848157\n",
      " 0.13843882 0.13839848 0.13836037 0.13832444 0.13829055 0.13825861\n",
      " 0.13822852 0.13820019 0.13817355 0.13814846 0.1381249  0.13810278\n",
      " 0.138082   0.13806248 0.13804415 0.138027   0.13801086 0.13799575\n",
      " 0.13798156 0.1379683  0.13795583 0.13794413 0.13793319 0.13792296\n",
      " 0.13791333 0.13790435 0.13789591 0.13788798 0.13788059 0.13787362\n",
      " 0.13786711 0.13786101 0.13785526 0.1378499  0.13784483 0.13784014\n",
      " 0.13783568 0.13783154 0.13782761 0.13782395 0.13782053 0.13781731\n",
      " 0.13781428 0.13781142 0.13780878 0.13780628 0.13780394 0.13780175\n",
      " 0.13779968 0.13779774 0.13779593 0.13779423 0.13779263 0.13779111\n",
      " 0.13778968 0.13778836 0.13778712 0.13778596 0.13778484 0.1377838\n",
      " 0.13778284 0.13778195 0.13778108 0.13778029]\n",
      "6 day output [[0.13777955]]\n",
      "7 day input [0.14448124 0.14396404 0.14348887 0.14305325 0.14265482 0.14229099\n",
      " 0.14195926 0.14165697 0.14138164 0.14113075 0.14090197 0.14069308\n",
      " 0.14050196 0.14032677 0.14016581 0.14001745 0.13988039 0.13975336\n",
      " 0.13963535 0.13952543 0.13942268 0.13932659 0.13923636 0.13915163\n",
      " 0.13907181 0.13899659 0.13892564 0.1388586  0.13879529 0.1387354\n",
      " 0.13867879 0.13862526 0.13857463 0.1385268  0.13848157 0.13843882\n",
      " 0.13839848 0.13836037 0.13832444 0.13829055 0.13825861 0.13822852\n",
      " 0.13820019 0.13817355 0.13814846 0.1381249  0.13810278 0.138082\n",
      " 0.13806248 0.13804415 0.138027   0.13801086 0.13799575 0.13798156\n",
      " 0.1379683  0.13795583 0.13794413 0.13793319 0.13792296 0.13791333\n",
      " 0.13790435 0.13789591 0.13788798 0.13788059 0.13787362 0.13786711\n",
      " 0.13786101 0.13785526 0.1378499  0.13784483 0.13784014 0.13783568\n",
      " 0.13783154 0.13782761 0.13782395 0.13782053 0.13781731 0.13781428\n",
      " 0.13781142 0.13780878 0.13780628 0.13780394 0.13780175 0.13779968\n",
      " 0.13779774 0.13779593 0.13779423 0.13779263 0.13779111 0.13778968\n",
      " 0.13778836 0.13778712 0.13778596 0.13778484 0.1377838  0.13778284\n",
      " 0.13778195 0.13778108 0.13778029 0.13777955]\n",
      "7 day output [[0.13777882]]\n",
      "8 day input [0.14396404 0.14348887 0.14305325 0.14265482 0.14229099 0.14195926\n",
      " 0.14165697 0.14138164 0.14113075 0.14090197 0.14069308 0.14050196\n",
      " 0.14032677 0.14016581 0.14001745 0.13988039 0.13975336 0.13963535\n",
      " 0.13952543 0.13942268 0.13932659 0.13923636 0.13915163 0.13907181\n",
      " 0.13899659 0.13892564 0.1388586  0.13879529 0.1387354  0.13867879\n",
      " 0.13862526 0.13857463 0.1385268  0.13848157 0.13843882 0.13839848\n",
      " 0.13836037 0.13832444 0.13829055 0.13825861 0.13822852 0.13820019\n",
      " 0.13817355 0.13814846 0.1381249  0.13810278 0.138082   0.13806248\n",
      " 0.13804415 0.138027   0.13801086 0.13799575 0.13798156 0.1379683\n",
      " 0.13795583 0.13794413 0.13793319 0.13792296 0.13791333 0.13790435\n",
      " 0.13789591 0.13788798 0.13788059 0.13787362 0.13786711 0.13786101\n",
      " 0.13785526 0.1378499  0.13784483 0.13784014 0.13783568 0.13783154\n",
      " 0.13782761 0.13782395 0.13782053 0.13781731 0.13781428 0.13781142\n",
      " 0.13780878 0.13780628 0.13780394 0.13780175 0.13779968 0.13779774\n",
      " 0.13779593 0.13779423 0.13779263 0.13779111 0.13778968 0.13778836\n",
      " 0.13778712 0.13778596 0.13778484 0.1377838  0.13778284 0.13778195\n",
      " 0.13778108 0.13778029 0.13777955 0.13777882]\n",
      "8 day output [[0.1377782]]\n",
      "9 day input [0.14348887 0.14305325 0.14265482 0.14229099 0.14195926 0.14165697\n",
      " 0.14138164 0.14113075 0.14090197 0.14069308 0.14050196 0.14032677\n",
      " 0.14016581 0.14001745 0.13988039 0.13975336 0.13963535 0.13952543\n",
      " 0.13942268 0.13932659 0.13923636 0.13915163 0.13907181 0.13899659\n",
      " 0.13892564 0.1388586  0.13879529 0.1387354  0.13867879 0.13862526\n",
      " 0.13857463 0.1385268  0.13848157 0.13843882 0.13839848 0.13836037\n",
      " 0.13832444 0.13829055 0.13825861 0.13822852 0.13820019 0.13817355\n",
      " 0.13814846 0.1381249  0.13810278 0.138082   0.13806248 0.13804415\n",
      " 0.138027   0.13801086 0.13799575 0.13798156 0.1379683  0.13795583\n",
      " 0.13794413 0.13793319 0.13792296 0.13791333 0.13790435 0.13789591\n",
      " 0.13788798 0.13788059 0.13787362 0.13786711 0.13786101 0.13785526\n",
      " 0.1378499  0.13784483 0.13784014 0.13783568 0.13783154 0.13782761\n",
      " 0.13782395 0.13782053 0.13781731 0.13781428 0.13781142 0.13780878\n",
      " 0.13780628 0.13780394 0.13780175 0.13779968 0.13779774 0.13779593\n",
      " 0.13779423 0.13779263 0.13779111 0.13778968 0.13778836 0.13778712\n",
      " 0.13778596 0.13778484 0.1377838  0.13778284 0.13778195 0.13778108\n",
      " 0.13778029 0.13777955 0.13777882 0.13777819]\n",
      "9 day output [[0.13777757]]\n",
      "10 day input [0.14305325 0.14265482 0.14229099 0.14195926 0.14165697 0.14138164\n",
      " 0.14113075 0.14090197 0.14069308 0.14050196 0.14032677 0.14016581\n",
      " 0.14001745 0.13988039 0.13975336 0.13963535 0.13952543 0.13942268\n",
      " 0.13932659 0.13923636 0.13915163 0.13907181 0.13899659 0.13892564\n",
      " 0.1388586  0.13879529 0.1387354  0.13867879 0.13862526 0.13857463\n",
      " 0.1385268  0.13848157 0.13843882 0.13839848 0.13836037 0.13832444\n",
      " 0.13829055 0.13825861 0.13822852 0.13820019 0.13817355 0.13814846\n",
      " 0.1381249  0.13810278 0.138082   0.13806248 0.13804415 0.138027\n",
      " 0.13801086 0.13799575 0.13798156 0.1379683  0.13795583 0.13794413\n",
      " 0.13793319 0.13792296 0.13791333 0.13790435 0.13789591 0.13788798\n",
      " 0.13788059 0.13787362 0.13786711 0.13786101 0.13785526 0.1378499\n",
      " 0.13784483 0.13784014 0.13783568 0.13783154 0.13782761 0.13782395\n",
      " 0.13782053 0.13781731 0.13781428 0.13781142 0.13780878 0.13780628\n",
      " 0.13780394 0.13780175 0.13779968 0.13779774 0.13779593 0.13779423\n",
      " 0.13779263 0.13779111 0.13778968 0.13778836 0.13778712 0.13778596\n",
      " 0.13778484 0.1377838  0.13778284 0.13778195 0.13778108 0.13778029\n",
      " 0.13777955 0.13777882 0.13777819 0.13777757]\n",
      "10 day output [[0.13777697]]\n",
      "11 day input [0.14265482 0.14229099 0.14195926 0.14165697 0.14138164 0.14113075\n",
      " 0.14090197 0.14069308 0.14050196 0.14032677 0.14016581 0.14001745\n",
      " 0.13988039 0.13975336 0.13963535 0.13952543 0.13942268 0.13932659\n",
      " 0.13923636 0.13915163 0.13907181 0.13899659 0.13892564 0.1388586\n",
      " 0.13879529 0.1387354  0.13867879 0.13862526 0.13857463 0.1385268\n",
      " 0.13848157 0.13843882 0.13839848 0.13836037 0.13832444 0.13829055\n",
      " 0.13825861 0.13822852 0.13820019 0.13817355 0.13814846 0.1381249\n",
      " 0.13810278 0.138082   0.13806248 0.13804415 0.138027   0.13801086\n",
      " 0.13799575 0.13798156 0.1379683  0.13795583 0.13794413 0.13793319\n",
      " 0.13792296 0.13791333 0.13790435 0.13789591 0.13788798 0.13788059\n",
      " 0.13787362 0.13786711 0.13786101 0.13785526 0.1378499  0.13784483\n",
      " 0.13784014 0.13783568 0.13783154 0.13782761 0.13782395 0.13782053\n",
      " 0.13781731 0.13781428 0.13781142 0.13780878 0.13780628 0.13780394\n",
      " 0.13780175 0.13779968 0.13779774 0.13779593 0.13779423 0.13779263\n",
      " 0.13779111 0.13778968 0.13778836 0.13778712 0.13778596 0.13778484\n",
      " 0.1377838  0.13778284 0.13778195 0.13778108 0.13778029 0.13777955\n",
      " 0.13777882 0.13777819 0.13777757 0.13777697]\n",
      "11 day output [[0.13777645]]\n",
      "12 day input [0.14229099 0.14195926 0.14165697 0.14138164 0.14113075 0.14090197\n",
      " 0.14069308 0.14050196 0.14032677 0.14016581 0.14001745 0.13988039\n",
      " 0.13975336 0.13963535 0.13952543 0.13942268 0.13932659 0.13923636\n",
      " 0.13915163 0.13907181 0.13899659 0.13892564 0.1388586  0.13879529\n",
      " 0.1387354  0.13867879 0.13862526 0.13857463 0.1385268  0.13848157\n",
      " 0.13843882 0.13839848 0.13836037 0.13832444 0.13829055 0.13825861\n",
      " 0.13822852 0.13820019 0.13817355 0.13814846 0.1381249  0.13810278\n",
      " 0.138082   0.13806248 0.13804415 0.138027   0.13801086 0.13799575\n",
      " 0.13798156 0.1379683  0.13795583 0.13794413 0.13793319 0.13792296\n",
      " 0.13791333 0.13790435 0.13789591 0.13788798 0.13788059 0.13787362\n",
      " 0.13786711 0.13786101 0.13785526 0.1378499  0.13784483 0.13784014\n",
      " 0.13783568 0.13783154 0.13782761 0.13782395 0.13782053 0.13781731\n",
      " 0.13781428 0.13781142 0.13780878 0.13780628 0.13780394 0.13780175\n",
      " 0.13779968 0.13779774 0.13779593 0.13779423 0.13779263 0.13779111\n",
      " 0.13778968 0.13778836 0.13778712 0.13778596 0.13778484 0.1377838\n",
      " 0.13778284 0.13778195 0.13778108 0.13778029 0.13777955 0.13777882\n",
      " 0.13777819 0.13777757 0.13777697 0.13777645]\n",
      "12 day output [[0.13777594]]\n",
      "13 day input [0.14195926 0.14165697 0.14138164 0.14113075 0.14090197 0.14069308\n",
      " 0.14050196 0.14032677 0.14016581 0.14001745 0.13988039 0.13975336\n",
      " 0.13963535 0.13952543 0.13942268 0.13932659 0.13923636 0.13915163\n",
      " 0.13907181 0.13899659 0.13892564 0.1388586  0.13879529 0.1387354\n",
      " 0.13867879 0.13862526 0.13857463 0.1385268  0.13848157 0.13843882\n",
      " 0.13839848 0.13836037 0.13832444 0.13829055 0.13825861 0.13822852\n",
      " 0.13820019 0.13817355 0.13814846 0.1381249  0.13810278 0.138082\n",
      " 0.13806248 0.13804415 0.138027   0.13801086 0.13799575 0.13798156\n",
      " 0.1379683  0.13795583 0.13794413 0.13793319 0.13792296 0.13791333\n",
      " 0.13790435 0.13789591 0.13788798 0.13788059 0.13787362 0.13786711\n",
      " 0.13786101 0.13785526 0.1378499  0.13784483 0.13784014 0.13783568\n",
      " 0.13783154 0.13782761 0.13782395 0.13782053 0.13781731 0.13781428\n",
      " 0.13781142 0.13780878 0.13780628 0.13780394 0.13780175 0.13779968\n",
      " 0.13779774 0.13779593 0.13779423 0.13779263 0.13779111 0.13778968\n",
      " 0.13778836 0.13778712 0.13778596 0.13778484 0.1377838  0.13778284\n",
      " 0.13778195 0.13778108 0.13778029 0.13777955 0.13777882 0.13777819\n",
      " 0.13777757 0.13777697 0.13777645 0.13777594]\n",
      "13 day output [[0.13777547]]\n",
      "14 day input [0.14165697 0.14138164 0.14113075 0.14090197 0.14069308 0.14050196\n",
      " 0.14032677 0.14016581 0.14001745 0.13988039 0.13975336 0.13963535\n",
      " 0.13952543 0.13942268 0.13932659 0.13923636 0.13915163 0.13907181\n",
      " 0.13899659 0.13892564 0.1388586  0.13879529 0.1387354  0.13867879\n",
      " 0.13862526 0.13857463 0.1385268  0.13848157 0.13843882 0.13839848\n",
      " 0.13836037 0.13832444 0.13829055 0.13825861 0.13822852 0.13820019\n",
      " 0.13817355 0.13814846 0.1381249  0.13810278 0.138082   0.13806248\n",
      " 0.13804415 0.138027   0.13801086 0.13799575 0.13798156 0.1379683\n",
      " 0.13795583 0.13794413 0.13793319 0.13792296 0.13791333 0.13790435\n",
      " 0.13789591 0.13788798 0.13788059 0.13787362 0.13786711 0.13786101\n",
      " 0.13785526 0.1378499  0.13784483 0.13784014 0.13783568 0.13783154\n",
      " 0.13782761 0.13782395 0.13782053 0.13781731 0.13781428 0.13781142\n",
      " 0.13780878 0.13780628 0.13780394 0.13780175 0.13779968 0.13779774\n",
      " 0.13779593 0.13779423 0.13779263 0.13779111 0.13778968 0.13778836\n",
      " 0.13778712 0.13778596 0.13778484 0.1377838  0.13778284 0.13778195\n",
      " 0.13778108 0.13778029 0.13777955 0.13777882 0.13777819 0.13777757\n",
      " 0.13777697 0.13777645 0.13777594 0.13777547]\n",
      "14 day output [[0.137775]]\n",
      "15 day input [0.14138164 0.14113075 0.14090197 0.14069308 0.14050196 0.14032677\n",
      " 0.14016581 0.14001745 0.13988039 0.13975336 0.13963535 0.13952543\n",
      " 0.13942268 0.13932659 0.13923636 0.13915163 0.13907181 0.13899659\n",
      " 0.13892564 0.1388586  0.13879529 0.1387354  0.13867879 0.13862526\n",
      " 0.13857463 0.1385268  0.13848157 0.13843882 0.13839848 0.13836037\n",
      " 0.13832444 0.13829055 0.13825861 0.13822852 0.13820019 0.13817355\n",
      " 0.13814846 0.1381249  0.13810278 0.138082   0.13806248 0.13804415\n",
      " 0.138027   0.13801086 0.13799575 0.13798156 0.1379683  0.13795583\n",
      " 0.13794413 0.13793319 0.13792296 0.13791333 0.13790435 0.13789591\n",
      " 0.13788798 0.13788059 0.13787362 0.13786711 0.13786101 0.13785526\n",
      " 0.1378499  0.13784483 0.13784014 0.13783568 0.13783154 0.13782761\n",
      " 0.13782395 0.13782053 0.13781731 0.13781428 0.13781142 0.13780878\n",
      " 0.13780628 0.13780394 0.13780175 0.13779968 0.13779774 0.13779593\n",
      " 0.13779423 0.13779263 0.13779111 0.13778968 0.13778836 0.13778712\n",
      " 0.13778596 0.13778484 0.1377838  0.13778284 0.13778195 0.13778108\n",
      " 0.13778029 0.13777955 0.13777882 0.13777819 0.13777757 0.13777697\n",
      " 0.13777645 0.13777594 0.13777547 0.137775  ]\n",
      "15 day output [[0.13777456]]\n",
      "16 day input [0.14113075 0.14090197 0.14069308 0.14050196 0.14032677 0.14016581\n",
      " 0.14001745 0.13988039 0.13975336 0.13963535 0.13952543 0.13942268\n",
      " 0.13932659 0.13923636 0.13915163 0.13907181 0.13899659 0.13892564\n",
      " 0.1388586  0.13879529 0.1387354  0.13867879 0.13862526 0.13857463\n",
      " 0.1385268  0.13848157 0.13843882 0.13839848 0.13836037 0.13832444\n",
      " 0.13829055 0.13825861 0.13822852 0.13820019 0.13817355 0.13814846\n",
      " 0.1381249  0.13810278 0.138082   0.13806248 0.13804415 0.138027\n",
      " 0.13801086 0.13799575 0.13798156 0.1379683  0.13795583 0.13794413\n",
      " 0.13793319 0.13792296 0.13791333 0.13790435 0.13789591 0.13788798\n",
      " 0.13788059 0.13787362 0.13786711 0.13786101 0.13785526 0.1378499\n",
      " 0.13784483 0.13784014 0.13783568 0.13783154 0.13782761 0.13782395\n",
      " 0.13782053 0.13781731 0.13781428 0.13781142 0.13780878 0.13780628\n",
      " 0.13780394 0.13780175 0.13779968 0.13779774 0.13779593 0.13779423\n",
      " 0.13779263 0.13779111 0.13778968 0.13778836 0.13778712 0.13778596\n",
      " 0.13778484 0.1377838  0.13778284 0.13778195 0.13778108 0.13778029\n",
      " 0.13777955 0.13777882 0.13777819 0.13777757 0.13777697 0.13777645\n",
      " 0.13777594 0.13777547 0.137775   0.13777456]\n",
      "16 day output [[0.13777418]]\n",
      "17 day input [0.14090197 0.14069308 0.14050196 0.14032677 0.14016581 0.14001745\n",
      " 0.13988039 0.13975336 0.13963535 0.13952543 0.13942268 0.13932659\n",
      " 0.13923636 0.13915163 0.13907181 0.13899659 0.13892564 0.1388586\n",
      " 0.13879529 0.1387354  0.13867879 0.13862526 0.13857463 0.1385268\n",
      " 0.13848157 0.13843882 0.13839848 0.13836037 0.13832444 0.13829055\n",
      " 0.13825861 0.13822852 0.13820019 0.13817355 0.13814846 0.1381249\n",
      " 0.13810278 0.138082   0.13806248 0.13804415 0.138027   0.13801086\n",
      " 0.13799575 0.13798156 0.1379683  0.13795583 0.13794413 0.13793319\n",
      " 0.13792296 0.13791333 0.13790435 0.13789591 0.13788798 0.13788059\n",
      " 0.13787362 0.13786711 0.13786101 0.13785526 0.1378499  0.13784483\n",
      " 0.13784014 0.13783568 0.13783154 0.13782761 0.13782395 0.13782053\n",
      " 0.13781731 0.13781428 0.13781142 0.13780878 0.13780628 0.13780394\n",
      " 0.13780175 0.13779968 0.13779774 0.13779593 0.13779423 0.13779263\n",
      " 0.13779111 0.13778968 0.13778836 0.13778712 0.13778596 0.13778484\n",
      " 0.1377838  0.13778284 0.13778195 0.13778108 0.13778029 0.13777955\n",
      " 0.13777882 0.13777819 0.13777757 0.13777697 0.13777645 0.13777594\n",
      " 0.13777547 0.137775   0.13777456 0.13777418]\n",
      "17 day output [[0.1377738]]\n",
      "18 day input [0.14069308 0.14050196 0.14032677 0.14016581 0.14001745 0.13988039\n",
      " 0.13975336 0.13963535 0.13952543 0.13942268 0.13932659 0.13923636\n",
      " 0.13915163 0.13907181 0.13899659 0.13892564 0.1388586  0.13879529\n",
      " 0.1387354  0.13867879 0.13862526 0.13857463 0.1385268  0.13848157\n",
      " 0.13843882 0.13839848 0.13836037 0.13832444 0.13829055 0.13825861\n",
      " 0.13822852 0.13820019 0.13817355 0.13814846 0.1381249  0.13810278\n",
      " 0.138082   0.13806248 0.13804415 0.138027   0.13801086 0.13799575\n",
      " 0.13798156 0.1379683  0.13795583 0.13794413 0.13793319 0.13792296\n",
      " 0.13791333 0.13790435 0.13789591 0.13788798 0.13788059 0.13787362\n",
      " 0.13786711 0.13786101 0.13785526 0.1378499  0.13784483 0.13784014\n",
      " 0.13783568 0.13783154 0.13782761 0.13782395 0.13782053 0.13781731\n",
      " 0.13781428 0.13781142 0.13780878 0.13780628 0.13780394 0.13780175\n",
      " 0.13779968 0.13779774 0.13779593 0.13779423 0.13779263 0.13779111\n",
      " 0.13778968 0.13778836 0.13778712 0.13778596 0.13778484 0.1377838\n",
      " 0.13778284 0.13778195 0.13778108 0.13778029 0.13777955 0.13777882\n",
      " 0.13777819 0.13777757 0.13777697 0.13777645 0.13777594 0.13777547\n",
      " 0.137775   0.13777456 0.13777418 0.1377738 ]\n",
      "18 day output [[0.13777347]]\n",
      "19 day input [0.14050196 0.14032677 0.14016581 0.14001745 0.13988039 0.13975336\n",
      " 0.13963535 0.13952543 0.13942268 0.13932659 0.13923636 0.13915163\n",
      " 0.13907181 0.13899659 0.13892564 0.1388586  0.13879529 0.1387354\n",
      " 0.13867879 0.13862526 0.13857463 0.1385268  0.13848157 0.13843882\n",
      " 0.13839848 0.13836037 0.13832444 0.13829055 0.13825861 0.13822852\n",
      " 0.13820019 0.13817355 0.13814846 0.1381249  0.13810278 0.138082\n",
      " 0.13806248 0.13804415 0.138027   0.13801086 0.13799575 0.13798156\n",
      " 0.1379683  0.13795583 0.13794413 0.13793319 0.13792296 0.13791333\n",
      " 0.13790435 0.13789591 0.13788798 0.13788059 0.13787362 0.13786711\n",
      " 0.13786101 0.13785526 0.1378499  0.13784483 0.13784014 0.13783568\n",
      " 0.13783154 0.13782761 0.13782395 0.13782053 0.13781731 0.13781428\n",
      " 0.13781142 0.13780878 0.13780628 0.13780394 0.13780175 0.13779968\n",
      " 0.13779774 0.13779593 0.13779423 0.13779263 0.13779111 0.13778968\n",
      " 0.13778836 0.13778712 0.13778596 0.13778484 0.1377838  0.13778284\n",
      " 0.13778195 0.13778108 0.13778029 0.13777955 0.13777882 0.13777819\n",
      " 0.13777757 0.13777697 0.13777645 0.13777594 0.13777547 0.137775\n",
      " 0.13777456 0.13777418 0.1377738  0.13777347]\n",
      "19 day output [[0.13777316]]\n",
      "20 day input [0.14032677 0.14016581 0.14001745 0.13988039 0.13975336 0.13963535\n",
      " 0.13952543 0.13942268 0.13932659 0.13923636 0.13915163 0.13907181\n",
      " 0.13899659 0.13892564 0.1388586  0.13879529 0.1387354  0.13867879\n",
      " 0.13862526 0.13857463 0.1385268  0.13848157 0.13843882 0.13839848\n",
      " 0.13836037 0.13832444 0.13829055 0.13825861 0.13822852 0.13820019\n",
      " 0.13817355 0.13814846 0.1381249  0.13810278 0.138082   0.13806248\n",
      " 0.13804415 0.138027   0.13801086 0.13799575 0.13798156 0.1379683\n",
      " 0.13795583 0.13794413 0.13793319 0.13792296 0.13791333 0.13790435\n",
      " 0.13789591 0.13788798 0.13788059 0.13787362 0.13786711 0.13786101\n",
      " 0.13785526 0.1378499  0.13784483 0.13784014 0.13783568 0.13783154\n",
      " 0.13782761 0.13782395 0.13782053 0.13781731 0.13781428 0.13781142\n",
      " 0.13780878 0.13780628 0.13780394 0.13780175 0.13779968 0.13779774\n",
      " 0.13779593 0.13779423 0.13779263 0.13779111 0.13778968 0.13778836\n",
      " 0.13778712 0.13778596 0.13778484 0.1377838  0.13778284 0.13778195\n",
      " 0.13778108 0.13778029 0.13777955 0.13777882 0.13777819 0.13777757\n",
      " 0.13777697 0.13777645 0.13777594 0.13777547 0.137775   0.13777456\n",
      " 0.13777418 0.1377738  0.13777347 0.13777316]\n",
      "20 day output [[0.13777284]]\n",
      "21 day input [0.14016581 0.14001745 0.13988039 0.13975336 0.13963535 0.13952543\n",
      " 0.13942268 0.13932659 0.13923636 0.13915163 0.13907181 0.13899659\n",
      " 0.13892564 0.1388586  0.13879529 0.1387354  0.13867879 0.13862526\n",
      " 0.13857463 0.1385268  0.13848157 0.13843882 0.13839848 0.13836037\n",
      " 0.13832444 0.13829055 0.13825861 0.13822852 0.13820019 0.13817355\n",
      " 0.13814846 0.1381249  0.13810278 0.138082   0.13806248 0.13804415\n",
      " 0.138027   0.13801086 0.13799575 0.13798156 0.1379683  0.13795583\n",
      " 0.13794413 0.13793319 0.13792296 0.13791333 0.13790435 0.13789591\n",
      " 0.13788798 0.13788059 0.13787362 0.13786711 0.13786101 0.13785526\n",
      " 0.1378499  0.13784483 0.13784014 0.13783568 0.13783154 0.13782761\n",
      " 0.13782395 0.13782053 0.13781731 0.13781428 0.13781142 0.13780878\n",
      " 0.13780628 0.13780394 0.13780175 0.13779968 0.13779774 0.13779593\n",
      " 0.13779423 0.13779263 0.13779111 0.13778968 0.13778836 0.13778712\n",
      " 0.13778596 0.13778484 0.1377838  0.13778284 0.13778195 0.13778108\n",
      " 0.13778029 0.13777955 0.13777882 0.13777819 0.13777757 0.13777697\n",
      " 0.13777645 0.13777594 0.13777547 0.137775   0.13777456 0.13777418\n",
      " 0.1377738  0.13777347 0.13777316 0.13777284]\n",
      "21 day output [[0.13777256]]\n",
      "22 day input [0.14001745 0.13988039 0.13975336 0.13963535 0.13952543 0.13942268\n",
      " 0.13932659 0.13923636 0.13915163 0.13907181 0.13899659 0.13892564\n",
      " 0.1388586  0.13879529 0.1387354  0.13867879 0.13862526 0.13857463\n",
      " 0.1385268  0.13848157 0.13843882 0.13839848 0.13836037 0.13832444\n",
      " 0.13829055 0.13825861 0.13822852 0.13820019 0.13817355 0.13814846\n",
      " 0.1381249  0.13810278 0.138082   0.13806248 0.13804415 0.138027\n",
      " 0.13801086 0.13799575 0.13798156 0.1379683  0.13795583 0.13794413\n",
      " 0.13793319 0.13792296 0.13791333 0.13790435 0.13789591 0.13788798\n",
      " 0.13788059 0.13787362 0.13786711 0.13786101 0.13785526 0.1378499\n",
      " 0.13784483 0.13784014 0.13783568 0.13783154 0.13782761 0.13782395\n",
      " 0.13782053 0.13781731 0.13781428 0.13781142 0.13780878 0.13780628\n",
      " 0.13780394 0.13780175 0.13779968 0.13779774 0.13779593 0.13779423\n",
      " 0.13779263 0.13779111 0.13778968 0.13778836 0.13778712 0.13778596\n",
      " 0.13778484 0.1377838  0.13778284 0.13778195 0.13778108 0.13778029\n",
      " 0.13777955 0.13777882 0.13777819 0.13777757 0.13777697 0.13777645\n",
      " 0.13777594 0.13777547 0.137775   0.13777456 0.13777418 0.1377738\n",
      " 0.13777347 0.13777316 0.13777284 0.13777256]\n",
      "22 day output [[0.1377723]]\n",
      "23 day input [0.13988039 0.13975336 0.13963535 0.13952543 0.13942268 0.13932659\n",
      " 0.13923636 0.13915163 0.13907181 0.13899659 0.13892564 0.1388586\n",
      " 0.13879529 0.1387354  0.13867879 0.13862526 0.13857463 0.1385268\n",
      " 0.13848157 0.13843882 0.13839848 0.13836037 0.13832444 0.13829055\n",
      " 0.13825861 0.13822852 0.13820019 0.13817355 0.13814846 0.1381249\n",
      " 0.13810278 0.138082   0.13806248 0.13804415 0.138027   0.13801086\n",
      " 0.13799575 0.13798156 0.1379683  0.13795583 0.13794413 0.13793319\n",
      " 0.13792296 0.13791333 0.13790435 0.13789591 0.13788798 0.13788059\n",
      " 0.13787362 0.13786711 0.13786101 0.13785526 0.1378499  0.13784483\n",
      " 0.13784014 0.13783568 0.13783154 0.13782761 0.13782395 0.13782053\n",
      " 0.13781731 0.13781428 0.13781142 0.13780878 0.13780628 0.13780394\n",
      " 0.13780175 0.13779968 0.13779774 0.13779593 0.13779423 0.13779263\n",
      " 0.13779111 0.13778968 0.13778836 0.13778712 0.13778596 0.13778484\n",
      " 0.1377838  0.13778284 0.13778195 0.13778108 0.13778029 0.13777955\n",
      " 0.13777882 0.13777819 0.13777757 0.13777697 0.13777645 0.13777594\n",
      " 0.13777547 0.137775   0.13777456 0.13777418 0.1377738  0.13777347\n",
      " 0.13777316 0.13777284 0.13777256 0.13777231]\n",
      "23 day output [[0.13777204]]\n",
      "24 day input [0.13975336 0.13963535 0.13952543 0.13942268 0.13932659 0.13923636\n",
      " 0.13915163 0.13907181 0.13899659 0.13892564 0.1388586  0.13879529\n",
      " 0.1387354  0.13867879 0.13862526 0.13857463 0.1385268  0.13848157\n",
      " 0.13843882 0.13839848 0.13836037 0.13832444 0.13829055 0.13825861\n",
      " 0.13822852 0.13820019 0.13817355 0.13814846 0.1381249  0.13810278\n",
      " 0.138082   0.13806248 0.13804415 0.138027   0.13801086 0.13799575\n",
      " 0.13798156 0.1379683  0.13795583 0.13794413 0.13793319 0.13792296\n",
      " 0.13791333 0.13790435 0.13789591 0.13788798 0.13788059 0.13787362\n",
      " 0.13786711 0.13786101 0.13785526 0.1378499  0.13784483 0.13784014\n",
      " 0.13783568 0.13783154 0.13782761 0.13782395 0.13782053 0.13781731\n",
      " 0.13781428 0.13781142 0.13780878 0.13780628 0.13780394 0.13780175\n",
      " 0.13779968 0.13779774 0.13779593 0.13779423 0.13779263 0.13779111\n",
      " 0.13778968 0.13778836 0.13778712 0.13778596 0.13778484 0.1377838\n",
      " 0.13778284 0.13778195 0.13778108 0.13778029 0.13777955 0.13777882\n",
      " 0.13777819 0.13777757 0.13777697 0.13777645 0.13777594 0.13777547\n",
      " 0.137775   0.13777456 0.13777418 0.1377738  0.13777347 0.13777316\n",
      " 0.13777284 0.13777256 0.13777231 0.13777204]\n",
      "24 day output [[0.1377718]]\n",
      "25 day input [0.13963535 0.13952543 0.13942268 0.13932659 0.13923636 0.13915163\n",
      " 0.13907181 0.13899659 0.13892564 0.1388586  0.13879529 0.1387354\n",
      " 0.13867879 0.13862526 0.13857463 0.1385268  0.13848157 0.13843882\n",
      " 0.13839848 0.13836037 0.13832444 0.13829055 0.13825861 0.13822852\n",
      " 0.13820019 0.13817355 0.13814846 0.1381249  0.13810278 0.138082\n",
      " 0.13806248 0.13804415 0.138027   0.13801086 0.13799575 0.13798156\n",
      " 0.1379683  0.13795583 0.13794413 0.13793319 0.13792296 0.13791333\n",
      " 0.13790435 0.13789591 0.13788798 0.13788059 0.13787362 0.13786711\n",
      " 0.13786101 0.13785526 0.1378499  0.13784483 0.13784014 0.13783568\n",
      " 0.13783154 0.13782761 0.13782395 0.13782053 0.13781731 0.13781428\n",
      " 0.13781142 0.13780878 0.13780628 0.13780394 0.13780175 0.13779968\n",
      " 0.13779774 0.13779593 0.13779423 0.13779263 0.13779111 0.13778968\n",
      " 0.13778836 0.13778712 0.13778596 0.13778484 0.1377838  0.13778284\n",
      " 0.13778195 0.13778108 0.13778029 0.13777955 0.13777882 0.13777819\n",
      " 0.13777757 0.13777697 0.13777645 0.13777594 0.13777547 0.137775\n",
      " 0.13777456 0.13777418 0.1377738  0.13777347 0.13777316 0.13777284\n",
      " 0.13777256 0.13777231 0.13777204 0.1377718 ]\n",
      "25 day output [[0.13777156]]\n",
      "26 day input [0.13952543 0.13942268 0.13932659 0.13923636 0.13915163 0.13907181\n",
      " 0.13899659 0.13892564 0.1388586  0.13879529 0.1387354  0.13867879\n",
      " 0.13862526 0.13857463 0.1385268  0.13848157 0.13843882 0.13839848\n",
      " 0.13836037 0.13832444 0.13829055 0.13825861 0.13822852 0.13820019\n",
      " 0.13817355 0.13814846 0.1381249  0.13810278 0.138082   0.13806248\n",
      " 0.13804415 0.138027   0.13801086 0.13799575 0.13798156 0.1379683\n",
      " 0.13795583 0.13794413 0.13793319 0.13792296 0.13791333 0.13790435\n",
      " 0.13789591 0.13788798 0.13788059 0.13787362 0.13786711 0.13786101\n",
      " 0.13785526 0.1378499  0.13784483 0.13784014 0.13783568 0.13783154\n",
      " 0.13782761 0.13782395 0.13782053 0.13781731 0.13781428 0.13781142\n",
      " 0.13780878 0.13780628 0.13780394 0.13780175 0.13779968 0.13779774\n",
      " 0.13779593 0.13779423 0.13779263 0.13779111 0.13778968 0.13778836\n",
      " 0.13778712 0.13778596 0.13778484 0.1377838  0.13778284 0.13778195\n",
      " 0.13778108 0.13778029 0.13777955 0.13777882 0.13777819 0.13777757\n",
      " 0.13777697 0.13777645 0.13777594 0.13777547 0.137775   0.13777456\n",
      " 0.13777418 0.1377738  0.13777347 0.13777316 0.13777284 0.13777256\n",
      " 0.13777231 0.13777204 0.1377718  0.13777156]\n",
      "26 day output [[0.13777137]]\n",
      "27 day input [0.13942268 0.13932659 0.13923636 0.13915163 0.13907181 0.13899659\n",
      " 0.13892564 0.1388586  0.13879529 0.1387354  0.13867879 0.13862526\n",
      " 0.13857463 0.1385268  0.13848157 0.13843882 0.13839848 0.13836037\n",
      " 0.13832444 0.13829055 0.13825861 0.13822852 0.13820019 0.13817355\n",
      " 0.13814846 0.1381249  0.13810278 0.138082   0.13806248 0.13804415\n",
      " 0.138027   0.13801086 0.13799575 0.13798156 0.1379683  0.13795583\n",
      " 0.13794413 0.13793319 0.13792296 0.13791333 0.13790435 0.13789591\n",
      " 0.13788798 0.13788059 0.13787362 0.13786711 0.13786101 0.13785526\n",
      " 0.1378499  0.13784483 0.13784014 0.13783568 0.13783154 0.13782761\n",
      " 0.13782395 0.13782053 0.13781731 0.13781428 0.13781142 0.13780878\n",
      " 0.13780628 0.13780394 0.13780175 0.13779968 0.13779774 0.13779593\n",
      " 0.13779423 0.13779263 0.13779111 0.13778968 0.13778836 0.13778712\n",
      " 0.13778596 0.13778484 0.1377838  0.13778284 0.13778195 0.13778108\n",
      " 0.13778029 0.13777955 0.13777882 0.13777819 0.13777757 0.13777697\n",
      " 0.13777645 0.13777594 0.13777547 0.137775   0.13777456 0.13777418\n",
      " 0.1377738  0.13777347 0.13777316 0.13777284 0.13777256 0.13777231\n",
      " 0.13777204 0.1377718  0.13777156 0.13777137]\n",
      "27 day output [[0.13777119]]\n",
      "28 day input [0.13932659 0.13923636 0.13915163 0.13907181 0.13899659 0.13892564\n",
      " 0.1388586  0.13879529 0.1387354  0.13867879 0.13862526 0.13857463\n",
      " 0.1385268  0.13848157 0.13843882 0.13839848 0.13836037 0.13832444\n",
      " 0.13829055 0.13825861 0.13822852 0.13820019 0.13817355 0.13814846\n",
      " 0.1381249  0.13810278 0.138082   0.13806248 0.13804415 0.138027\n",
      " 0.13801086 0.13799575 0.13798156 0.1379683  0.13795583 0.13794413\n",
      " 0.13793319 0.13792296 0.13791333 0.13790435 0.13789591 0.13788798\n",
      " 0.13788059 0.13787362 0.13786711 0.13786101 0.13785526 0.1378499\n",
      " 0.13784483 0.13784014 0.13783568 0.13783154 0.13782761 0.13782395\n",
      " 0.13782053 0.13781731 0.13781428 0.13781142 0.13780878 0.13780628\n",
      " 0.13780394 0.13780175 0.13779968 0.13779774 0.13779593 0.13779423\n",
      " 0.13779263 0.13779111 0.13778968 0.13778836 0.13778712 0.13778596\n",
      " 0.13778484 0.1377838  0.13778284 0.13778195 0.13778108 0.13778029\n",
      " 0.13777955 0.13777882 0.13777819 0.13777757 0.13777697 0.13777645\n",
      " 0.13777594 0.13777547 0.137775   0.13777456 0.13777418 0.1377738\n",
      " 0.13777347 0.13777316 0.13777284 0.13777256 0.13777231 0.13777204\n",
      " 0.1377718  0.13777156 0.13777137 0.13777119]\n",
      "28 day output [[0.13777097]]\n",
      "29 day input [0.13923636 0.13915163 0.13907181 0.13899659 0.13892564 0.1388586\n",
      " 0.13879529 0.1387354  0.13867879 0.13862526 0.13857463 0.1385268\n",
      " 0.13848157 0.13843882 0.13839848 0.13836037 0.13832444 0.13829055\n",
      " 0.13825861 0.13822852 0.13820019 0.13817355 0.13814846 0.1381249\n",
      " 0.13810278 0.138082   0.13806248 0.13804415 0.138027   0.13801086\n",
      " 0.13799575 0.13798156 0.1379683  0.13795583 0.13794413 0.13793319\n",
      " 0.13792296 0.13791333 0.13790435 0.13789591 0.13788798 0.13788059\n",
      " 0.13787362 0.13786711 0.13786101 0.13785526 0.1378499  0.13784483\n",
      " 0.13784014 0.13783568 0.13783154 0.13782761 0.13782395 0.13782053\n",
      " 0.13781731 0.13781428 0.13781142 0.13780878 0.13780628 0.13780394\n",
      " 0.13780175 0.13779968 0.13779774 0.13779593 0.13779423 0.13779263\n",
      " 0.13779111 0.13778968 0.13778836 0.13778712 0.13778596 0.13778484\n",
      " 0.1377838  0.13778284 0.13778195 0.13778108 0.13778029 0.13777955\n",
      " 0.13777882 0.13777819 0.13777757 0.13777697 0.13777645 0.13777594\n",
      " 0.13777547 0.137775   0.13777456 0.13777418 0.1377738  0.13777347\n",
      " 0.13777316 0.13777284 0.13777256 0.13777231 0.13777204 0.1377718\n",
      " 0.13777156 0.13777137 0.13777119 0.13777097]\n",
      "29 day output [[0.1377708]]\n",
      "30 day input [0.13915163 0.13907181 0.13899659 0.13892564 0.1388586  0.13879529\n",
      " 0.1387354  0.13867879 0.13862526 0.13857463 0.1385268  0.13848157\n",
      " 0.13843882 0.13839848 0.13836037 0.13832444 0.13829055 0.13825861\n",
      " 0.13822852 0.13820019 0.13817355 0.13814846 0.1381249  0.13810278\n",
      " 0.138082   0.13806248 0.13804415 0.138027   0.13801086 0.13799575\n",
      " 0.13798156 0.1379683  0.13795583 0.13794413 0.13793319 0.13792296\n",
      " 0.13791333 0.13790435 0.13789591 0.13788798 0.13788059 0.13787362\n",
      " 0.13786711 0.13786101 0.13785526 0.1378499  0.13784483 0.13784014\n",
      " 0.13783568 0.13783154 0.13782761 0.13782395 0.13782053 0.13781731\n",
      " 0.13781428 0.13781142 0.13780878 0.13780628 0.13780394 0.13780175\n",
      " 0.13779968 0.13779774 0.13779593 0.13779423 0.13779263 0.13779111\n",
      " 0.13778968 0.13778836 0.13778712 0.13778596 0.13778484 0.1377838\n",
      " 0.13778284 0.13778195 0.13778108 0.13778029 0.13777955 0.13777882\n",
      " 0.13777819 0.13777757 0.13777697 0.13777645 0.13777594 0.13777547\n",
      " 0.137775   0.13777456 0.13777418 0.1377738  0.13777347 0.13777316\n",
      " 0.13777284 0.13777256 0.13777231 0.13777204 0.1377718  0.13777156\n",
      " 0.13777137 0.13777119 0.13777097 0.1377708 ]\n",
      "30 day output [[0.13777065]]\n",
      "31 day input [0.13907181 0.13899659 0.13892564 0.1388586  0.13879529 0.1387354\n",
      " 0.13867879 0.13862526 0.13857463 0.1385268  0.13848157 0.13843882\n",
      " 0.13839848 0.13836037 0.13832444 0.13829055 0.13825861 0.13822852\n",
      " 0.13820019 0.13817355 0.13814846 0.1381249  0.13810278 0.138082\n",
      " 0.13806248 0.13804415 0.138027   0.13801086 0.13799575 0.13798156\n",
      " 0.1379683  0.13795583 0.13794413 0.13793319 0.13792296 0.13791333\n",
      " 0.13790435 0.13789591 0.13788798 0.13788059 0.13787362 0.13786711\n",
      " 0.13786101 0.13785526 0.1378499  0.13784483 0.13784014 0.13783568\n",
      " 0.13783154 0.13782761 0.13782395 0.13782053 0.13781731 0.13781428\n",
      " 0.13781142 0.13780878 0.13780628 0.13780394 0.13780175 0.13779968\n",
      " 0.13779774 0.13779593 0.13779423 0.13779263 0.13779111 0.13778968\n",
      " 0.13778836 0.13778712 0.13778596 0.13778484 0.1377838  0.13778284\n",
      " 0.13778195 0.13778108 0.13778029 0.13777955 0.13777882 0.13777819\n",
      " 0.13777757 0.13777697 0.13777645 0.13777594 0.13777547 0.137775\n",
      " 0.13777456 0.13777418 0.1377738  0.13777347 0.13777316 0.13777284\n",
      " 0.13777256 0.13777231 0.13777204 0.1377718  0.13777156 0.13777137\n",
      " 0.13777119 0.13777097 0.1377708  0.13777065]\n",
      "31 day output [[0.13777049]]\n",
      "32 day input [0.13899659 0.13892564 0.1388586  0.13879529 0.1387354  0.13867879\n",
      " 0.13862526 0.13857463 0.1385268  0.13848157 0.13843882 0.13839848\n",
      " 0.13836037 0.13832444 0.13829055 0.13825861 0.13822852 0.13820019\n",
      " 0.13817355 0.13814846 0.1381249  0.13810278 0.138082   0.13806248\n",
      " 0.13804415 0.138027   0.13801086 0.13799575 0.13798156 0.1379683\n",
      " 0.13795583 0.13794413 0.13793319 0.13792296 0.13791333 0.13790435\n",
      " 0.13789591 0.13788798 0.13788059 0.13787362 0.13786711 0.13786101\n",
      " 0.13785526 0.1378499  0.13784483 0.13784014 0.13783568 0.13783154\n",
      " 0.13782761 0.13782395 0.13782053 0.13781731 0.13781428 0.13781142\n",
      " 0.13780878 0.13780628 0.13780394 0.13780175 0.13779968 0.13779774\n",
      " 0.13779593 0.13779423 0.13779263 0.13779111 0.13778968 0.13778836\n",
      " 0.13778712 0.13778596 0.13778484 0.1377838  0.13778284 0.13778195\n",
      " 0.13778108 0.13778029 0.13777955 0.13777882 0.13777819 0.13777757\n",
      " 0.13777697 0.13777645 0.13777594 0.13777547 0.137775   0.13777456\n",
      " 0.13777418 0.1377738  0.13777347 0.13777316 0.13777284 0.13777256\n",
      " 0.13777231 0.13777204 0.1377718  0.13777156 0.13777137 0.13777119\n",
      " 0.13777097 0.1377708  0.13777065 0.13777049]\n",
      "32 day output [[0.13777037]]\n",
      "33 day input [0.13892564 0.1388586  0.13879529 0.1387354  0.13867879 0.13862526\n",
      " 0.13857463 0.1385268  0.13848157 0.13843882 0.13839848 0.13836037\n",
      " 0.13832444 0.13829055 0.13825861 0.13822852 0.13820019 0.13817355\n",
      " 0.13814846 0.1381249  0.13810278 0.138082   0.13806248 0.13804415\n",
      " 0.138027   0.13801086 0.13799575 0.13798156 0.1379683  0.13795583\n",
      " 0.13794413 0.13793319 0.13792296 0.13791333 0.13790435 0.13789591\n",
      " 0.13788798 0.13788059 0.13787362 0.13786711 0.13786101 0.13785526\n",
      " 0.1378499  0.13784483 0.13784014 0.13783568 0.13783154 0.13782761\n",
      " 0.13782395 0.13782053 0.13781731 0.13781428 0.13781142 0.13780878\n",
      " 0.13780628 0.13780394 0.13780175 0.13779968 0.13779774 0.13779593\n",
      " 0.13779423 0.13779263 0.13779111 0.13778968 0.13778836 0.13778712\n",
      " 0.13778596 0.13778484 0.1377838  0.13778284 0.13778195 0.13778108\n",
      " 0.13778029 0.13777955 0.13777882 0.13777819 0.13777757 0.13777697\n",
      " 0.13777645 0.13777594 0.13777547 0.137775   0.13777456 0.13777418\n",
      " 0.1377738  0.13777347 0.13777316 0.13777284 0.13777256 0.13777231\n",
      " 0.13777204 0.1377718  0.13777156 0.13777137 0.13777119 0.13777097\n",
      " 0.1377708  0.13777065 0.13777049 0.13777037]\n",
      "33 day output [[0.13777022]]\n",
      "34 day input [0.1388586  0.13879529 0.1387354  0.13867879 0.13862526 0.13857463\n",
      " 0.1385268  0.13848157 0.13843882 0.13839848 0.13836037 0.13832444\n",
      " 0.13829055 0.13825861 0.13822852 0.13820019 0.13817355 0.13814846\n",
      " 0.1381249  0.13810278 0.138082   0.13806248 0.13804415 0.138027\n",
      " 0.13801086 0.13799575 0.13798156 0.1379683  0.13795583 0.13794413\n",
      " 0.13793319 0.13792296 0.13791333 0.13790435 0.13789591 0.13788798\n",
      " 0.13788059 0.13787362 0.13786711 0.13786101 0.13785526 0.1378499\n",
      " 0.13784483 0.13784014 0.13783568 0.13783154 0.13782761 0.13782395\n",
      " 0.13782053 0.13781731 0.13781428 0.13781142 0.13780878 0.13780628\n",
      " 0.13780394 0.13780175 0.13779968 0.13779774 0.13779593 0.13779423\n",
      " 0.13779263 0.13779111 0.13778968 0.13778836 0.13778712 0.13778596\n",
      " 0.13778484 0.1377838  0.13778284 0.13778195 0.13778108 0.13778029\n",
      " 0.13777955 0.13777882 0.13777819 0.13777757 0.13777697 0.13777645\n",
      " 0.13777594 0.13777547 0.137775   0.13777456 0.13777418 0.1377738\n",
      " 0.13777347 0.13777316 0.13777284 0.13777256 0.13777231 0.13777204\n",
      " 0.1377718  0.13777156 0.13777137 0.13777119 0.13777097 0.1377708\n",
      " 0.13777065 0.13777049 0.13777037 0.13777022]\n",
      "34 day output [[0.13777009]]\n",
      "35 day input [0.13879529 0.1387354  0.13867879 0.13862526 0.13857463 0.1385268\n",
      " 0.13848157 0.13843882 0.13839848 0.13836037 0.13832444 0.13829055\n",
      " 0.13825861 0.13822852 0.13820019 0.13817355 0.13814846 0.1381249\n",
      " 0.13810278 0.138082   0.13806248 0.13804415 0.138027   0.13801086\n",
      " 0.13799575 0.13798156 0.1379683  0.13795583 0.13794413 0.13793319\n",
      " 0.13792296 0.13791333 0.13790435 0.13789591 0.13788798 0.13788059\n",
      " 0.13787362 0.13786711 0.13786101 0.13785526 0.1378499  0.13784483\n",
      " 0.13784014 0.13783568 0.13783154 0.13782761 0.13782395 0.13782053\n",
      " 0.13781731 0.13781428 0.13781142 0.13780878 0.13780628 0.13780394\n",
      " 0.13780175 0.13779968 0.13779774 0.13779593 0.13779423 0.13779263\n",
      " 0.13779111 0.13778968 0.13778836 0.13778712 0.13778596 0.13778484\n",
      " 0.1377838  0.13778284 0.13778195 0.13778108 0.13778029 0.13777955\n",
      " 0.13777882 0.13777819 0.13777757 0.13777697 0.13777645 0.13777594\n",
      " 0.13777547 0.137775   0.13777456 0.13777418 0.1377738  0.13777347\n",
      " 0.13777316 0.13777284 0.13777256 0.13777231 0.13777204 0.1377718\n",
      " 0.13777156 0.13777137 0.13777119 0.13777097 0.1377708  0.13777065\n",
      " 0.13777049 0.13777037 0.13777022 0.13777009]\n",
      "35 day output [[0.13776997]]\n",
      "36 day input [0.1387354  0.13867879 0.13862526 0.13857463 0.1385268  0.13848157\n",
      " 0.13843882 0.13839848 0.13836037 0.13832444 0.13829055 0.13825861\n",
      " 0.13822852 0.13820019 0.13817355 0.13814846 0.1381249  0.13810278\n",
      " 0.138082   0.13806248 0.13804415 0.138027   0.13801086 0.13799575\n",
      " 0.13798156 0.1379683  0.13795583 0.13794413 0.13793319 0.13792296\n",
      " 0.13791333 0.13790435 0.13789591 0.13788798 0.13788059 0.13787362\n",
      " 0.13786711 0.13786101 0.13785526 0.1378499  0.13784483 0.13784014\n",
      " 0.13783568 0.13783154 0.13782761 0.13782395 0.13782053 0.13781731\n",
      " 0.13781428 0.13781142 0.13780878 0.13780628 0.13780394 0.13780175\n",
      " 0.13779968 0.13779774 0.13779593 0.13779423 0.13779263 0.13779111\n",
      " 0.13778968 0.13778836 0.13778712 0.13778596 0.13778484 0.1377838\n",
      " 0.13778284 0.13778195 0.13778108 0.13778029 0.13777955 0.13777882\n",
      " 0.13777819 0.13777757 0.13777697 0.13777645 0.13777594 0.13777547\n",
      " 0.137775   0.13777456 0.13777418 0.1377738  0.13777347 0.13777316\n",
      " 0.13777284 0.13777256 0.13777231 0.13777204 0.1377718  0.13777156\n",
      " 0.13777137 0.13777119 0.13777097 0.1377708  0.13777065 0.13777049\n",
      " 0.13777037 0.13777022 0.13777009 0.13776997]\n",
      "36 day output [[0.13776985]]\n",
      "37 day input [0.13867879 0.13862526 0.13857463 0.1385268  0.13848157 0.13843882\n",
      " 0.13839848 0.13836037 0.13832444 0.13829055 0.13825861 0.13822852\n",
      " 0.13820019 0.13817355 0.13814846 0.1381249  0.13810278 0.138082\n",
      " 0.13806248 0.13804415 0.138027   0.13801086 0.13799575 0.13798156\n",
      " 0.1379683  0.13795583 0.13794413 0.13793319 0.13792296 0.13791333\n",
      " 0.13790435 0.13789591 0.13788798 0.13788059 0.13787362 0.13786711\n",
      " 0.13786101 0.13785526 0.1378499  0.13784483 0.13784014 0.13783568\n",
      " 0.13783154 0.13782761 0.13782395 0.13782053 0.13781731 0.13781428\n",
      " 0.13781142 0.13780878 0.13780628 0.13780394 0.13780175 0.13779968\n",
      " 0.13779774 0.13779593 0.13779423 0.13779263 0.13779111 0.13778968\n",
      " 0.13778836 0.13778712 0.13778596 0.13778484 0.1377838  0.13778284\n",
      " 0.13778195 0.13778108 0.13778029 0.13777955 0.13777882 0.13777819\n",
      " 0.13777757 0.13777697 0.13777645 0.13777594 0.13777547 0.137775\n",
      " 0.13777456 0.13777418 0.1377738  0.13777347 0.13777316 0.13777284\n",
      " 0.13777256 0.13777231 0.13777204 0.1377718  0.13777156 0.13777137\n",
      " 0.13777119 0.13777097 0.1377708  0.13777065 0.13777049 0.13777037\n",
      " 0.13777022 0.13777009 0.13776997 0.13776985]\n",
      "37 day output [[0.13776974]]\n",
      "38 day input [0.13862526 0.13857463 0.1385268  0.13848157 0.13843882 0.13839848\n",
      " 0.13836037 0.13832444 0.13829055 0.13825861 0.13822852 0.13820019\n",
      " 0.13817355 0.13814846 0.1381249  0.13810278 0.138082   0.13806248\n",
      " 0.13804415 0.138027   0.13801086 0.13799575 0.13798156 0.1379683\n",
      " 0.13795583 0.13794413 0.13793319 0.13792296 0.13791333 0.13790435\n",
      " 0.13789591 0.13788798 0.13788059 0.13787362 0.13786711 0.13786101\n",
      " 0.13785526 0.1378499  0.13784483 0.13784014 0.13783568 0.13783154\n",
      " 0.13782761 0.13782395 0.13782053 0.13781731 0.13781428 0.13781142\n",
      " 0.13780878 0.13780628 0.13780394 0.13780175 0.13779968 0.13779774\n",
      " 0.13779593 0.13779423 0.13779263 0.13779111 0.13778968 0.13778836\n",
      " 0.13778712 0.13778596 0.13778484 0.1377838  0.13778284 0.13778195\n",
      " 0.13778108 0.13778029 0.13777955 0.13777882 0.13777819 0.13777757\n",
      " 0.13777697 0.13777645 0.13777594 0.13777547 0.137775   0.13777456\n",
      " 0.13777418 0.1377738  0.13777347 0.13777316 0.13777284 0.13777256\n",
      " 0.13777231 0.13777204 0.1377718  0.13777156 0.13777137 0.13777119\n",
      " 0.13777097 0.1377708  0.13777065 0.13777049 0.13777037 0.13777022\n",
      " 0.13777009 0.13776997 0.13776985 0.13776974]\n",
      "38 day output [[0.13776965]]\n",
      "39 day input [0.13857463 0.1385268  0.13848157 0.13843882 0.13839848 0.13836037\n",
      " 0.13832444 0.13829055 0.13825861 0.13822852 0.13820019 0.13817355\n",
      " 0.13814846 0.1381249  0.13810278 0.138082   0.13806248 0.13804415\n",
      " 0.138027   0.13801086 0.13799575 0.13798156 0.1379683  0.13795583\n",
      " 0.13794413 0.13793319 0.13792296 0.13791333 0.13790435 0.13789591\n",
      " 0.13788798 0.13788059 0.13787362 0.13786711 0.13786101 0.13785526\n",
      " 0.1378499  0.13784483 0.13784014 0.13783568 0.13783154 0.13782761\n",
      " 0.13782395 0.13782053 0.13781731 0.13781428 0.13781142 0.13780878\n",
      " 0.13780628 0.13780394 0.13780175 0.13779968 0.13779774 0.13779593\n",
      " 0.13779423 0.13779263 0.13779111 0.13778968 0.13778836 0.13778712\n",
      " 0.13778596 0.13778484 0.1377838  0.13778284 0.13778195 0.13778108\n",
      " 0.13778029 0.13777955 0.13777882 0.13777819 0.13777757 0.13777697\n",
      " 0.13777645 0.13777594 0.13777547 0.137775   0.13777456 0.13777418\n",
      " 0.1377738  0.13777347 0.13777316 0.13777284 0.13777256 0.13777231\n",
      " 0.13777204 0.1377718  0.13777156 0.13777137 0.13777119 0.13777097\n",
      " 0.1377708  0.13777065 0.13777049 0.13777037 0.13777022 0.13777009\n",
      " 0.13776997 0.13776985 0.13776974 0.13776965]\n",
      "39 day output [[0.13776956]]\n",
      "[[0.13778483867645264], [0.13778379559516907], [0.13778284192085266], [0.13778194785118103], [0.1377810835838318], [0.1377802938222885], [0.13777954876422882], [0.13777881860733032], [0.13777819275856018], [0.13777756690979004], [0.13777697086334229], [0.1377764493227005], [0.1377759426832199], [0.1377754658460617], [0.1377750039100647], [0.13777455687522888], [0.13777418434619904], [0.137773796916008], [0.13777346909046173], [0.13777315616607666], [0.1377728432416916], [0.1377725601196289], [0.1377723067998886], [0.13777203857898712], [0.13777180016040802], [0.13777156174182892], [0.1377713680267334], [0.13777118921279907], [0.13777096569538116], [0.13777080178260803], [0.1377706527709961], [0.13777048885822296], [0.1377703696489334], [0.13777022063732147], [0.13777008652687073], [0.13776996731758118], [0.13776984810829163], [0.13776974380016327], [0.1377696543931961], [0.13776956498622894]]\n"
     ]
    }
   ],
   "source": [
    "lst_output=[]\n",
    "n_steps=100\n",
    "i=0\n",
    "while(i<40):\n",
    "    \n",
    "    if(len(temp_input)>100):\n",
    "        x_input=np.array(temp_input[1:])\n",
    "        print(\"{} day input {}\".format(i,x_input))\n",
    "        x_input=x_input.reshape(1,-1)\n",
    "        x_input = x_input.reshape((1, n_steps, 1))\n",
    "\n",
    "        yhat = model.predict(x_input, verbose=0)\n",
    "        print(\"{} day output {}\".format(i,yhat))\n",
    "        temp_input.extend(yhat[0].tolist())\n",
    "        temp_input=temp_input[1:]\n",
    "\n",
    "        lst_output.extend(yhat.tolist())\n",
    "        i=i+1\n",
    "    else:\n",
    "        x_input = x_input.reshape((1, n_steps,1))\n",
    "        yhat = model.predict(x_input, verbose=0)\n",
    "        print(yhat[0])\n",
    "        temp_input.extend(yhat[0].tolist())\n",
    "        print(len(temp_input))\n",
    "        lst_output.extend(yhat.tolist())\n",
    "        i=i+1\n",
    "    \n",
    "\n"
   ]
  },
  {
   "cell_type": "code",
   "execution_count": null,
   "metadata": {
    "colab": {
     "base_uri": "https://localhost:8080/"
    },
    "id": "sJEwykOdl2DP",
    "outputId": "8cb28409-d01c-4cae-e104-80e40b12f276"
   },
   "outputs": [],
   "source": [
    "day_new = np.arange(1,101)\n",
    "day_pred = np.arange(101,141)"
   ]
  },
  {
   "cell_type": "markdown",
   "metadata": {
    "id": "7dvs-5Mxo1Hg"
   },
   "source": [
    "##  Actual values in last 100 days And Predicted Stock Values In 40 Days"
   ]
  },
  {
   "cell_type": "code",
   "execution_count": 76,
   "metadata": {
    "colab": {
     "base_uri": "https://localhost:8080/",
     "height": 404
    },
    "id": "dF7qQ47fmkMR",
    "outputId": "cd03ac79-5563-4eee-a157-966803d1f44c"
   },
   "outputs": [
    {
     "data": {
      "image/png": "[encoded data removed]",
      "text/plain": [
       "<Figure size 936x432 with 1 Axes>"
      ]
     },
     "metadata": {
      "needs_background": "light"
     },
     "output_type": "display_data"
    }
   ],
   "source": [
    "plt.figure(figsize=(13,6))\n",
    "\n",
    "plt.plot(day_new, scaler.inverse_transform(df_high[1935:]))\n",
    "plt.plot(day_pred, scaler.inverse_transform(lst_output))\n",
    "plt.title(\"GRAPHICAL VIEW OF ACTUAL STOCK VALUES IN LAST 100 DAYS And Predicted Stock Values In 40Days\")\n",
    "plt.xlabel('Days')\n",
    "plt.ylabel('Values')\n",
    "\n",
    "plt.show()"
   ]
  },
  {
   "cell_type": "markdown",
   "metadata": {
    "id": "agOfwcB1r07W"
   },
   "source": [
    "### The Blue Color Line Shows The Actual Stock Value Trend In Last 100 Days\n",
    "\n",
    "### The Red Color Line Shows The Predicted Stock Value Trend In Next 40 Days"
   ]
  },
  {
   "cell_type": "code",
   "execution_count": null,
   "metadata": {},
   "outputs": [],
   "source": []
  }
 ],
 "metadata": {
  "colab": {
   "provenance": []
  },
  "kernelspec": {
   "display_name": "Python 3 (ipykernel)",
   "language": "python",
   "name": "python3"
  },
  "language_info": {
   "codemirror_mode": {
    "name": "ipython",
    "version": 3
   },
   "file_extension": ".py",
   "mimetype": "text/x-python",
   "name": "python",
   "nbconvert_exporter": "python",
   "pygments_lexer": "ipython3",
   "version": "3.9.13"
  }
 },
 "nbformat": 4,
 "nbformat_minor": 1
}
